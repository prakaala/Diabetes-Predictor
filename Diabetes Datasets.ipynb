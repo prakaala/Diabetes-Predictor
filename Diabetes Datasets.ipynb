{
 "cells": [
  {
   "cell_type": "markdown",
   "id": "49651122",
   "metadata": {},
   "source": [
    "## Introduction\n",
    "\n",
    "According to Robbins & Cortan, pathological basis of disease, “Diabetes Miletus is a group of metabolic disorders sharing the common feature of hyperglycemia”. Hyperglycemia in diabetes is a result of defective insulin secretion, insulin action or both. All these metabolic dysregulations later are associated with secondary damage in multiple organ systems. \n",
    "In United State alone, diabetes is leading cause of end stage renal disease, adult-onset blindness and non-traumatic lower extremities amputation as a result of arteriopathy. \n",
    "Based on American Diabetes Association and WHO, diagnostic criteria include:\n",
    "1.\tFasting plasma glucose >= 126 mg/dl\n",
    "2.\tRandom plasma glucose >= 200 mg/dl\n",
    "3.\t2-hours plasma glucose >= 200 mg/dl during standard protocol\n",
    "4.\tGlycated hemoglobin (HbA1c) >= 6.5%\n",
    "\n",
    "\n",
    "Along with this diabetes is associated with elastic hyper glycolic signs, also known as Classic Triad of Diabetes, namely polyuria, polyphagia, and polydipsia. \n",
    "\n",
    "According to Cleveland Clinic, polyphagia is a feeling of extreme insatiable hunger. It is a normal bodily response to situation of glycolic crisis or non-utilization of glucose by body tissues, strongly associated with diabetes miletus. \n",
    "\n",
    "Polydipsia is an abnormal urge to always drink fluids, which is a bodily reaction to fluid loss in forms of urine in diabetes.\n",
    "\n",
    "Polyuria is a state of excessive urination volume which occurs when one urinates more than normal. Its association with diabetes is explained as the effect of osmolar change in urine brought about by hyperglycemia.\n",
    "\n",
    "\n",
    "The data was originally collected by Professor Azad Khan from 19th September 2015 to 19th November 2015 from a group of patients at the  Outpatient Clinic of Sylhet Diabetes Hospital in  Sylhet, Bangladesh. \n",
    "\n",
    "    This dataset is obtained from UCI Machine Learning Inventory. Here we want to predict if there is diabetes based on the different medical parameters such as polyuria, polydipsia and many more.  \n",
    "    https://archive.ics.uci.edu/dataset/529/early+stage+diabetes+risk+prediction+dataset"
   ]
  },
  {
   "cell_type": "code",
   "execution_count": 1,
   "id": "13bc4ae7",
   "metadata": {},
   "outputs": [
    {
     "name": "stdout",
     "output_type": "stream",
     "text": [
      "Python version is 3.9.6 (default, Aug 18 2021, 15:44:49) [MSC v.1916 64 bit (AMD64)]\n",
      "Matplotlib version is 3.6.3\n",
      "Scikit-Learn version is 0.24.2\n",
      "Numpy version is 1.21.2\n",
      "Pandas version is 1.3.2\n"
     ]
    }
   ],
   "source": [
    "import numpy as np\n",
    "import pandas as pd\n",
    "import matplotlib\n",
    "import sklearn\n",
    "import sys\n",
    "from sklearn.preprocessing import LabelEncoder\n",
    "from sklearn.metrics import confusion_matrix\n",
    "import matplotlib.pyplot as plt\n",
    "import seaborn as sns\n",
    "\n",
    "print(\"Python version is \"+sys.version)\n",
    "print(\"Matplotlib version is \"+matplotlib.__version__)\n",
    "print(\"Scikit-Learn version is \"+sklearn.__version__)\n",
    "print(\"Numpy version is \"+np.__version__)\n",
    "print(\"Pandas version is \"+pd.__version__)"
   ]
  },
  {
   "cell_type": "code",
   "execution_count": 2,
   "id": "60afb307",
   "metadata": {},
   "outputs": [],
   "source": [
    "df = pd.read_csv('diabetes_data_upload.csv')"
   ]
  },
  {
   "cell_type": "code",
   "execution_count": 3,
   "id": "80bdb656",
   "metadata": {},
   "outputs": [
    {
     "data": {
      "text/html": [
       "<div>\n",
       "<style scoped>\n",
       "    .dataframe tbody tr th:only-of-type {\n",
       "        vertical-align: middle;\n",
       "    }\n",
       "\n",
       "    .dataframe tbody tr th {\n",
       "        vertical-align: top;\n",
       "    }\n",
       "\n",
       "    .dataframe thead th {\n",
       "        text-align: right;\n",
       "    }\n",
       "</style>\n",
       "<table border=\"1\" class=\"dataframe\">\n",
       "  <thead>\n",
       "    <tr style=\"text-align: right;\">\n",
       "      <th></th>\n",
       "      <th>Age</th>\n",
       "      <th>Gender</th>\n",
       "      <th>Polyuria</th>\n",
       "      <th>Polydipsia</th>\n",
       "      <th>sudden weight loss</th>\n",
       "      <th>weakness</th>\n",
       "      <th>Polyphagia</th>\n",
       "      <th>Genital thrush</th>\n",
       "      <th>visual blurring</th>\n",
       "      <th>Itching</th>\n",
       "      <th>Irritability</th>\n",
       "      <th>delayed healing</th>\n",
       "      <th>partial paresis</th>\n",
       "      <th>muscle stiffness</th>\n",
       "      <th>Alopecia</th>\n",
       "      <th>Obesity</th>\n",
       "      <th>class</th>\n",
       "    </tr>\n",
       "  </thead>\n",
       "  <tbody>\n",
       "    <tr>\n",
       "      <th>0</th>\n",
       "      <td>40</td>\n",
       "      <td>Male</td>\n",
       "      <td>No</td>\n",
       "      <td>Yes</td>\n",
       "      <td>No</td>\n",
       "      <td>Yes</td>\n",
       "      <td>No</td>\n",
       "      <td>No</td>\n",
       "      <td>No</td>\n",
       "      <td>Yes</td>\n",
       "      <td>No</td>\n",
       "      <td>Yes</td>\n",
       "      <td>No</td>\n",
       "      <td>Yes</td>\n",
       "      <td>Yes</td>\n",
       "      <td>Yes</td>\n",
       "      <td>Positive</td>\n",
       "    </tr>\n",
       "    <tr>\n",
       "      <th>1</th>\n",
       "      <td>58</td>\n",
       "      <td>Male</td>\n",
       "      <td>No</td>\n",
       "      <td>No</td>\n",
       "      <td>No</td>\n",
       "      <td>Yes</td>\n",
       "      <td>No</td>\n",
       "      <td>No</td>\n",
       "      <td>Yes</td>\n",
       "      <td>No</td>\n",
       "      <td>No</td>\n",
       "      <td>No</td>\n",
       "      <td>Yes</td>\n",
       "      <td>No</td>\n",
       "      <td>Yes</td>\n",
       "      <td>No</td>\n",
       "      <td>Positive</td>\n",
       "    </tr>\n",
       "    <tr>\n",
       "      <th>2</th>\n",
       "      <td>41</td>\n",
       "      <td>Male</td>\n",
       "      <td>Yes</td>\n",
       "      <td>No</td>\n",
       "      <td>No</td>\n",
       "      <td>Yes</td>\n",
       "      <td>Yes</td>\n",
       "      <td>No</td>\n",
       "      <td>No</td>\n",
       "      <td>Yes</td>\n",
       "      <td>No</td>\n",
       "      <td>Yes</td>\n",
       "      <td>No</td>\n",
       "      <td>Yes</td>\n",
       "      <td>Yes</td>\n",
       "      <td>No</td>\n",
       "      <td>Positive</td>\n",
       "    </tr>\n",
       "    <tr>\n",
       "      <th>3</th>\n",
       "      <td>45</td>\n",
       "      <td>Male</td>\n",
       "      <td>No</td>\n",
       "      <td>No</td>\n",
       "      <td>Yes</td>\n",
       "      <td>Yes</td>\n",
       "      <td>Yes</td>\n",
       "      <td>Yes</td>\n",
       "      <td>No</td>\n",
       "      <td>Yes</td>\n",
       "      <td>No</td>\n",
       "      <td>Yes</td>\n",
       "      <td>No</td>\n",
       "      <td>No</td>\n",
       "      <td>No</td>\n",
       "      <td>No</td>\n",
       "      <td>Positive</td>\n",
       "    </tr>\n",
       "    <tr>\n",
       "      <th>4</th>\n",
       "      <td>60</td>\n",
       "      <td>Male</td>\n",
       "      <td>Yes</td>\n",
       "      <td>Yes</td>\n",
       "      <td>Yes</td>\n",
       "      <td>Yes</td>\n",
       "      <td>Yes</td>\n",
       "      <td>No</td>\n",
       "      <td>Yes</td>\n",
       "      <td>Yes</td>\n",
       "      <td>Yes</td>\n",
       "      <td>Yes</td>\n",
       "      <td>Yes</td>\n",
       "      <td>Yes</td>\n",
       "      <td>Yes</td>\n",
       "      <td>Yes</td>\n",
       "      <td>Positive</td>\n",
       "    </tr>\n",
       "  </tbody>\n",
       "</table>\n",
       "</div>"
      ],
      "text/plain": [
       "   Age Gender Polyuria Polydipsia sudden weight loss weakness Polyphagia  \\\n",
       "0   40   Male       No        Yes                 No      Yes         No   \n",
       "1   58   Male       No         No                 No      Yes         No   \n",
       "2   41   Male      Yes         No                 No      Yes        Yes   \n",
       "3   45   Male       No         No                Yes      Yes        Yes   \n",
       "4   60   Male      Yes        Yes                Yes      Yes        Yes   \n",
       "\n",
       "  Genital thrush visual blurring Itching Irritability delayed healing  \\\n",
       "0             No              No     Yes           No             Yes   \n",
       "1             No             Yes      No           No              No   \n",
       "2             No              No     Yes           No             Yes   \n",
       "3            Yes              No     Yes           No             Yes   \n",
       "4             No             Yes     Yes          Yes             Yes   \n",
       "\n",
       "  partial paresis muscle stiffness Alopecia Obesity     class  \n",
       "0              No              Yes      Yes     Yes  Positive  \n",
       "1             Yes               No      Yes      No  Positive  \n",
       "2              No              Yes      Yes      No  Positive  \n",
       "3              No               No       No      No  Positive  \n",
       "4             Yes              Yes      Yes     Yes  Positive  "
      ]
     },
     "execution_count": 3,
     "metadata": {},
     "output_type": "execute_result"
    }
   ],
   "source": [
    "df.head()"
   ]
  },
  {
   "cell_type": "code",
   "execution_count": 4,
   "id": "fa361e35",
   "metadata": {},
   "outputs": [
    {
     "name": "stdout",
     "output_type": "stream",
     "text": [
      "<class 'pandas.core.frame.DataFrame'>\n",
      "RangeIndex: 520 entries, 0 to 519\n",
      "Data columns (total 17 columns):\n",
      " #   Column              Non-Null Count  Dtype \n",
      "---  ------              --------------  ----- \n",
      " 0   Age                 520 non-null    int64 \n",
      " 1   Gender              520 non-null    object\n",
      " 2   Polyuria            520 non-null    object\n",
      " 3   Polydipsia          520 non-null    object\n",
      " 4   sudden weight loss  520 non-null    object\n",
      " 5   weakness            520 non-null    object\n",
      " 6   Polyphagia          520 non-null    object\n",
      " 7   Genital thrush      520 non-null    object\n",
      " 8   visual blurring     520 non-null    object\n",
      " 9   Itching             520 non-null    object\n",
      " 10  Irritability        520 non-null    object\n",
      " 11  delayed healing     520 non-null    object\n",
      " 12  partial paresis     520 non-null    object\n",
      " 13  muscle stiffness    520 non-null    object\n",
      " 14  Alopecia            520 non-null    object\n",
      " 15  Obesity             520 non-null    object\n",
      " 16  class               520 non-null    object\n",
      "dtypes: int64(1), object(16)\n",
      "memory usage: 69.2+ KB\n"
     ]
    },
    {
     "data": {
      "text/plain": [
       "Age                   0\n",
       "Gender                0\n",
       "Polyuria              0\n",
       "Polydipsia            0\n",
       "sudden weight loss    0\n",
       "weakness              0\n",
       "Polyphagia            0\n",
       "Genital thrush        0\n",
       "visual blurring       0\n",
       "Itching               0\n",
       "Irritability          0\n",
       "delayed healing       0\n",
       "partial paresis       0\n",
       "muscle stiffness      0\n",
       "Alopecia              0\n",
       "Obesity               0\n",
       "class                 0\n",
       "dtype: int64"
      ]
     },
     "execution_count": 4,
     "metadata": {},
     "output_type": "execute_result"
    }
   ],
   "source": [
    "df.info()\n",
    "df.isna().sum()"
   ]
  },
  {
   "cell_type": "markdown",
   "id": "02e73158",
   "metadata": {},
   "source": [
    "So there are no missing data in the dataset. However there are several nominal values. \n",
    "\n",
    "#### Independent Variables:\n",
    "    Age\t: Numerical Value\n",
    "    Gender: Ordinal Value\n",
    "    Polyuria: Ordinal Value\t\n",
    "    Polydipsia: Ordinal Value\n",
    "    sudden weight loss: Ordinal Value\t\n",
    "    weakness: Ordinal Value\n",
    "    Polyphagia: Ordinal Value\t\n",
    "    Genital thrush: Ordinal Value\n",
    "    visual blurring: Ordinal Value\n",
    "    Itching: Ordinal Value\n",
    "    Irritability: Ordinal Value\n",
    "    delayed healing: Ordinal Value\t\n",
    "    partial paresis: Ordinal Value\n",
    "    muscle stiffness: Ordinal Value\t\n",
    "    Alopecia: Ordinal Value\t\n",
    "    Obesity: Ordinal Value\n",
    "#### Dependent Variable:\n",
    "    class: Nominal Value"
   ]
  },
  {
   "cell_type": "code",
   "execution_count": 5,
   "id": "f6c11783",
   "metadata": {},
   "outputs": [],
   "source": [
    "# So we are using mapping to map the values to 0 and 1 so that they can be used for \n",
    "mapping = {'Yes':1 ,'No':0}\n",
    "df['Polyuria'] = df['Polyuria'].map(mapping)\n",
    "df['Polydipsia'] = df['Polydipsia'].map(mapping)\n",
    "df['sudden weight loss'] = df['sudden weight loss'].map(mapping)\n",
    "df['weakness'] = df['weakness'].map(mapping)\n",
    "df['Polyphagia'] = df['Polyphagia'].map(mapping)\n",
    "df['Genital thrush'] = df['Genital thrush'].map(mapping)\n",
    "df['Itching'] = df['Itching'].map(mapping)\n",
    "df['Irritability'] = df['Irritability'].map(mapping)\n",
    "df['delayed healing'] = df['delayed healing'].map(mapping)\n",
    "df['partial paresis'] = df['partial paresis'].map(mapping)\n",
    "df['muscle stiffness'] = df['muscle stiffness'].map(mapping)\n",
    "df['Alopecia'] = df['Alopecia'].map(mapping)\n",
    "df['Obesity'] = df['Obesity'].map(mapping)\n",
    "df['visual blurring']= df['visual blurring'].map(mapping)"
   ]
  },
  {
   "cell_type": "code",
   "execution_count": 6,
   "id": "cf66f04b",
   "metadata": {},
   "outputs": [
    {
     "data": {
      "text/html": [
       "<div>\n",
       "<style scoped>\n",
       "    .dataframe tbody tr th:only-of-type {\n",
       "        vertical-align: middle;\n",
       "    }\n",
       "\n",
       "    .dataframe tbody tr th {\n",
       "        vertical-align: top;\n",
       "    }\n",
       "\n",
       "    .dataframe thead th {\n",
       "        text-align: right;\n",
       "    }\n",
       "</style>\n",
       "<table border=\"1\" class=\"dataframe\">\n",
       "  <thead>\n",
       "    <tr style=\"text-align: right;\">\n",
       "      <th></th>\n",
       "      <th>Age</th>\n",
       "      <th>Gender</th>\n",
       "      <th>Polyuria</th>\n",
       "      <th>Polydipsia</th>\n",
       "      <th>sudden weight loss</th>\n",
       "      <th>weakness</th>\n",
       "      <th>Polyphagia</th>\n",
       "      <th>Genital thrush</th>\n",
       "      <th>visual blurring</th>\n",
       "      <th>Itching</th>\n",
       "      <th>Irritability</th>\n",
       "      <th>delayed healing</th>\n",
       "      <th>partial paresis</th>\n",
       "      <th>muscle stiffness</th>\n",
       "      <th>Alopecia</th>\n",
       "      <th>Obesity</th>\n",
       "      <th>class</th>\n",
       "    </tr>\n",
       "  </thead>\n",
       "  <tbody>\n",
       "    <tr>\n",
       "      <th>0</th>\n",
       "      <td>40</td>\n",
       "      <td>Male</td>\n",
       "      <td>0</td>\n",
       "      <td>1</td>\n",
       "      <td>0</td>\n",
       "      <td>1</td>\n",
       "      <td>0</td>\n",
       "      <td>0</td>\n",
       "      <td>0</td>\n",
       "      <td>1</td>\n",
       "      <td>0</td>\n",
       "      <td>1</td>\n",
       "      <td>0</td>\n",
       "      <td>1</td>\n",
       "      <td>1</td>\n",
       "      <td>1</td>\n",
       "      <td>Positive</td>\n",
       "    </tr>\n",
       "    <tr>\n",
       "      <th>1</th>\n",
       "      <td>58</td>\n",
       "      <td>Male</td>\n",
       "      <td>0</td>\n",
       "      <td>0</td>\n",
       "      <td>0</td>\n",
       "      <td>1</td>\n",
       "      <td>0</td>\n",
       "      <td>0</td>\n",
       "      <td>1</td>\n",
       "      <td>0</td>\n",
       "      <td>0</td>\n",
       "      <td>0</td>\n",
       "      <td>1</td>\n",
       "      <td>0</td>\n",
       "      <td>1</td>\n",
       "      <td>0</td>\n",
       "      <td>Positive</td>\n",
       "    </tr>\n",
       "    <tr>\n",
       "      <th>2</th>\n",
       "      <td>41</td>\n",
       "      <td>Male</td>\n",
       "      <td>1</td>\n",
       "      <td>0</td>\n",
       "      <td>0</td>\n",
       "      <td>1</td>\n",
       "      <td>1</td>\n",
       "      <td>0</td>\n",
       "      <td>0</td>\n",
       "      <td>1</td>\n",
       "      <td>0</td>\n",
       "      <td>1</td>\n",
       "      <td>0</td>\n",
       "      <td>1</td>\n",
       "      <td>1</td>\n",
       "      <td>0</td>\n",
       "      <td>Positive</td>\n",
       "    </tr>\n",
       "    <tr>\n",
       "      <th>3</th>\n",
       "      <td>45</td>\n",
       "      <td>Male</td>\n",
       "      <td>0</td>\n",
       "      <td>0</td>\n",
       "      <td>1</td>\n",
       "      <td>1</td>\n",
       "      <td>1</td>\n",
       "      <td>1</td>\n",
       "      <td>0</td>\n",
       "      <td>1</td>\n",
       "      <td>0</td>\n",
       "      <td>1</td>\n",
       "      <td>0</td>\n",
       "      <td>0</td>\n",
       "      <td>0</td>\n",
       "      <td>0</td>\n",
       "      <td>Positive</td>\n",
       "    </tr>\n",
       "    <tr>\n",
       "      <th>4</th>\n",
       "      <td>60</td>\n",
       "      <td>Male</td>\n",
       "      <td>1</td>\n",
       "      <td>1</td>\n",
       "      <td>1</td>\n",
       "      <td>1</td>\n",
       "      <td>1</td>\n",
       "      <td>0</td>\n",
       "      <td>1</td>\n",
       "      <td>1</td>\n",
       "      <td>1</td>\n",
       "      <td>1</td>\n",
       "      <td>1</td>\n",
       "      <td>1</td>\n",
       "      <td>1</td>\n",
       "      <td>1</td>\n",
       "      <td>Positive</td>\n",
       "    </tr>\n",
       "    <tr>\n",
       "      <th>...</th>\n",
       "      <td>...</td>\n",
       "      <td>...</td>\n",
       "      <td>...</td>\n",
       "      <td>...</td>\n",
       "      <td>...</td>\n",
       "      <td>...</td>\n",
       "      <td>...</td>\n",
       "      <td>...</td>\n",
       "      <td>...</td>\n",
       "      <td>...</td>\n",
       "      <td>...</td>\n",
       "      <td>...</td>\n",
       "      <td>...</td>\n",
       "      <td>...</td>\n",
       "      <td>...</td>\n",
       "      <td>...</td>\n",
       "      <td>...</td>\n",
       "    </tr>\n",
       "    <tr>\n",
       "      <th>515</th>\n",
       "      <td>39</td>\n",
       "      <td>Female</td>\n",
       "      <td>1</td>\n",
       "      <td>1</td>\n",
       "      <td>1</td>\n",
       "      <td>0</td>\n",
       "      <td>1</td>\n",
       "      <td>0</td>\n",
       "      <td>0</td>\n",
       "      <td>1</td>\n",
       "      <td>0</td>\n",
       "      <td>1</td>\n",
       "      <td>1</td>\n",
       "      <td>0</td>\n",
       "      <td>0</td>\n",
       "      <td>0</td>\n",
       "      <td>Positive</td>\n",
       "    </tr>\n",
       "    <tr>\n",
       "      <th>516</th>\n",
       "      <td>48</td>\n",
       "      <td>Female</td>\n",
       "      <td>1</td>\n",
       "      <td>1</td>\n",
       "      <td>1</td>\n",
       "      <td>1</td>\n",
       "      <td>1</td>\n",
       "      <td>0</td>\n",
       "      <td>0</td>\n",
       "      <td>1</td>\n",
       "      <td>1</td>\n",
       "      <td>1</td>\n",
       "      <td>1</td>\n",
       "      <td>0</td>\n",
       "      <td>0</td>\n",
       "      <td>0</td>\n",
       "      <td>Positive</td>\n",
       "    </tr>\n",
       "    <tr>\n",
       "      <th>517</th>\n",
       "      <td>58</td>\n",
       "      <td>Female</td>\n",
       "      <td>1</td>\n",
       "      <td>1</td>\n",
       "      <td>1</td>\n",
       "      <td>1</td>\n",
       "      <td>1</td>\n",
       "      <td>0</td>\n",
       "      <td>1</td>\n",
       "      <td>0</td>\n",
       "      <td>0</td>\n",
       "      <td>0</td>\n",
       "      <td>1</td>\n",
       "      <td>1</td>\n",
       "      <td>0</td>\n",
       "      <td>1</td>\n",
       "      <td>Positive</td>\n",
       "    </tr>\n",
       "    <tr>\n",
       "      <th>518</th>\n",
       "      <td>32</td>\n",
       "      <td>Female</td>\n",
       "      <td>0</td>\n",
       "      <td>0</td>\n",
       "      <td>0</td>\n",
       "      <td>1</td>\n",
       "      <td>0</td>\n",
       "      <td>0</td>\n",
       "      <td>1</td>\n",
       "      <td>1</td>\n",
       "      <td>0</td>\n",
       "      <td>1</td>\n",
       "      <td>0</td>\n",
       "      <td>0</td>\n",
       "      <td>1</td>\n",
       "      <td>0</td>\n",
       "      <td>Negative</td>\n",
       "    </tr>\n",
       "    <tr>\n",
       "      <th>519</th>\n",
       "      <td>42</td>\n",
       "      <td>Male</td>\n",
       "      <td>0</td>\n",
       "      <td>0</td>\n",
       "      <td>0</td>\n",
       "      <td>0</td>\n",
       "      <td>0</td>\n",
       "      <td>0</td>\n",
       "      <td>0</td>\n",
       "      <td>0</td>\n",
       "      <td>0</td>\n",
       "      <td>0</td>\n",
       "      <td>0</td>\n",
       "      <td>0</td>\n",
       "      <td>0</td>\n",
       "      <td>0</td>\n",
       "      <td>Negative</td>\n",
       "    </tr>\n",
       "  </tbody>\n",
       "</table>\n",
       "<p>520 rows × 17 columns</p>\n",
       "</div>"
      ],
      "text/plain": [
       "     Age  Gender  Polyuria  Polydipsia  sudden weight loss  weakness  \\\n",
       "0     40    Male         0           1                   0         1   \n",
       "1     58    Male         0           0                   0         1   \n",
       "2     41    Male         1           0                   0         1   \n",
       "3     45    Male         0           0                   1         1   \n",
       "4     60    Male         1           1                   1         1   \n",
       "..   ...     ...       ...         ...                 ...       ...   \n",
       "515   39  Female         1           1                   1         0   \n",
       "516   48  Female         1           1                   1         1   \n",
       "517   58  Female         1           1                   1         1   \n",
       "518   32  Female         0           0                   0         1   \n",
       "519   42    Male         0           0                   0         0   \n",
       "\n",
       "     Polyphagia  Genital thrush  visual blurring  Itching  Irritability  \\\n",
       "0             0               0                0        1             0   \n",
       "1             0               0                1        0             0   \n",
       "2             1               0                0        1             0   \n",
       "3             1               1                0        1             0   \n",
       "4             1               0                1        1             1   \n",
       "..          ...             ...              ...      ...           ...   \n",
       "515           1               0                0        1             0   \n",
       "516           1               0                0        1             1   \n",
       "517           1               0                1        0             0   \n",
       "518           0               0                1        1             0   \n",
       "519           0               0                0        0             0   \n",
       "\n",
       "     delayed healing  partial paresis  muscle stiffness  Alopecia  Obesity  \\\n",
       "0                  1                0                 1         1        1   \n",
       "1                  0                1                 0         1        0   \n",
       "2                  1                0                 1         1        0   \n",
       "3                  1                0                 0         0        0   \n",
       "4                  1                1                 1         1        1   \n",
       "..               ...              ...               ...       ...      ...   \n",
       "515                1                1                 0         0        0   \n",
       "516                1                1                 0         0        0   \n",
       "517                0                1                 1         0        1   \n",
       "518                1                0                 0         1        0   \n",
       "519                0                0                 0         0        0   \n",
       "\n",
       "        class  \n",
       "0    Positive  \n",
       "1    Positive  \n",
       "2    Positive  \n",
       "3    Positive  \n",
       "4    Positive  \n",
       "..        ...  \n",
       "515  Positive  \n",
       "516  Positive  \n",
       "517  Positive  \n",
       "518  Negative  \n",
       "519  Negative  \n",
       "\n",
       "[520 rows x 17 columns]"
      ]
     },
     "execution_count": 6,
     "metadata": {},
     "output_type": "execute_result"
    }
   ],
   "source": [
    "df"
   ]
  },
  {
   "cell_type": "code",
   "execution_count": 7,
   "id": "d6f051fd",
   "metadata": {},
   "outputs": [
    {
     "data": {
      "text/html": [
       "<div>\n",
       "<style scoped>\n",
       "    .dataframe tbody tr th:only-of-type {\n",
       "        vertical-align: middle;\n",
       "    }\n",
       "\n",
       "    .dataframe tbody tr th {\n",
       "        vertical-align: top;\n",
       "    }\n",
       "\n",
       "    .dataframe thead th {\n",
       "        text-align: right;\n",
       "    }\n",
       "</style>\n",
       "<table border=\"1\" class=\"dataframe\">\n",
       "  <thead>\n",
       "    <tr style=\"text-align: right;\">\n",
       "      <th></th>\n",
       "      <th>Age</th>\n",
       "      <th>Gender</th>\n",
       "      <th>Polyuria</th>\n",
       "      <th>Polydipsia</th>\n",
       "      <th>sudden weight loss</th>\n",
       "      <th>weakness</th>\n",
       "      <th>Polyphagia</th>\n",
       "      <th>Genital thrush</th>\n",
       "      <th>visual blurring</th>\n",
       "      <th>Itching</th>\n",
       "      <th>Irritability</th>\n",
       "      <th>delayed healing</th>\n",
       "      <th>partial paresis</th>\n",
       "      <th>muscle stiffness</th>\n",
       "      <th>Alopecia</th>\n",
       "      <th>Obesity</th>\n",
       "      <th>class</th>\n",
       "    </tr>\n",
       "  </thead>\n",
       "  <tbody>\n",
       "    <tr>\n",
       "      <th>0</th>\n",
       "      <td>40</td>\n",
       "      <td>0</td>\n",
       "      <td>0</td>\n",
       "      <td>1</td>\n",
       "      <td>0</td>\n",
       "      <td>1</td>\n",
       "      <td>0</td>\n",
       "      <td>0</td>\n",
       "      <td>0</td>\n",
       "      <td>1</td>\n",
       "      <td>0</td>\n",
       "      <td>1</td>\n",
       "      <td>0</td>\n",
       "      <td>1</td>\n",
       "      <td>1</td>\n",
       "      <td>1</td>\n",
       "      <td>1</td>\n",
       "    </tr>\n",
       "    <tr>\n",
       "      <th>1</th>\n",
       "      <td>58</td>\n",
       "      <td>0</td>\n",
       "      <td>0</td>\n",
       "      <td>0</td>\n",
       "      <td>0</td>\n",
       "      <td>1</td>\n",
       "      <td>0</td>\n",
       "      <td>0</td>\n",
       "      <td>1</td>\n",
       "      <td>0</td>\n",
       "      <td>0</td>\n",
       "      <td>0</td>\n",
       "      <td>1</td>\n",
       "      <td>0</td>\n",
       "      <td>1</td>\n",
       "      <td>0</td>\n",
       "      <td>1</td>\n",
       "    </tr>\n",
       "    <tr>\n",
       "      <th>2</th>\n",
       "      <td>41</td>\n",
       "      <td>0</td>\n",
       "      <td>1</td>\n",
       "      <td>0</td>\n",
       "      <td>0</td>\n",
       "      <td>1</td>\n",
       "      <td>1</td>\n",
       "      <td>0</td>\n",
       "      <td>0</td>\n",
       "      <td>1</td>\n",
       "      <td>0</td>\n",
       "      <td>1</td>\n",
       "      <td>0</td>\n",
       "      <td>1</td>\n",
       "      <td>1</td>\n",
       "      <td>0</td>\n",
       "      <td>1</td>\n",
       "    </tr>\n",
       "    <tr>\n",
       "      <th>3</th>\n",
       "      <td>45</td>\n",
       "      <td>0</td>\n",
       "      <td>0</td>\n",
       "      <td>0</td>\n",
       "      <td>1</td>\n",
       "      <td>1</td>\n",
       "      <td>1</td>\n",
       "      <td>1</td>\n",
       "      <td>0</td>\n",
       "      <td>1</td>\n",
       "      <td>0</td>\n",
       "      <td>1</td>\n",
       "      <td>0</td>\n",
       "      <td>0</td>\n",
       "      <td>0</td>\n",
       "      <td>0</td>\n",
       "      <td>1</td>\n",
       "    </tr>\n",
       "    <tr>\n",
       "      <th>4</th>\n",
       "      <td>60</td>\n",
       "      <td>0</td>\n",
       "      <td>1</td>\n",
       "      <td>1</td>\n",
       "      <td>1</td>\n",
       "      <td>1</td>\n",
       "      <td>1</td>\n",
       "      <td>0</td>\n",
       "      <td>1</td>\n",
       "      <td>1</td>\n",
       "      <td>1</td>\n",
       "      <td>1</td>\n",
       "      <td>1</td>\n",
       "      <td>1</td>\n",
       "      <td>1</td>\n",
       "      <td>1</td>\n",
       "      <td>1</td>\n",
       "    </tr>\n",
       "    <tr>\n",
       "      <th>...</th>\n",
       "      <td>...</td>\n",
       "      <td>...</td>\n",
       "      <td>...</td>\n",
       "      <td>...</td>\n",
       "      <td>...</td>\n",
       "      <td>...</td>\n",
       "      <td>...</td>\n",
       "      <td>...</td>\n",
       "      <td>...</td>\n",
       "      <td>...</td>\n",
       "      <td>...</td>\n",
       "      <td>...</td>\n",
       "      <td>...</td>\n",
       "      <td>...</td>\n",
       "      <td>...</td>\n",
       "      <td>...</td>\n",
       "      <td>...</td>\n",
       "    </tr>\n",
       "    <tr>\n",
       "      <th>515</th>\n",
       "      <td>39</td>\n",
       "      <td>1</td>\n",
       "      <td>1</td>\n",
       "      <td>1</td>\n",
       "      <td>1</td>\n",
       "      <td>0</td>\n",
       "      <td>1</td>\n",
       "      <td>0</td>\n",
       "      <td>0</td>\n",
       "      <td>1</td>\n",
       "      <td>0</td>\n",
       "      <td>1</td>\n",
       "      <td>1</td>\n",
       "      <td>0</td>\n",
       "      <td>0</td>\n",
       "      <td>0</td>\n",
       "      <td>1</td>\n",
       "    </tr>\n",
       "    <tr>\n",
       "      <th>516</th>\n",
       "      <td>48</td>\n",
       "      <td>1</td>\n",
       "      <td>1</td>\n",
       "      <td>1</td>\n",
       "      <td>1</td>\n",
       "      <td>1</td>\n",
       "      <td>1</td>\n",
       "      <td>0</td>\n",
       "      <td>0</td>\n",
       "      <td>1</td>\n",
       "      <td>1</td>\n",
       "      <td>1</td>\n",
       "      <td>1</td>\n",
       "      <td>0</td>\n",
       "      <td>0</td>\n",
       "      <td>0</td>\n",
       "      <td>1</td>\n",
       "    </tr>\n",
       "    <tr>\n",
       "      <th>517</th>\n",
       "      <td>58</td>\n",
       "      <td>1</td>\n",
       "      <td>1</td>\n",
       "      <td>1</td>\n",
       "      <td>1</td>\n",
       "      <td>1</td>\n",
       "      <td>1</td>\n",
       "      <td>0</td>\n",
       "      <td>1</td>\n",
       "      <td>0</td>\n",
       "      <td>0</td>\n",
       "      <td>0</td>\n",
       "      <td>1</td>\n",
       "      <td>1</td>\n",
       "      <td>0</td>\n",
       "      <td>1</td>\n",
       "      <td>1</td>\n",
       "    </tr>\n",
       "    <tr>\n",
       "      <th>518</th>\n",
       "      <td>32</td>\n",
       "      <td>1</td>\n",
       "      <td>0</td>\n",
       "      <td>0</td>\n",
       "      <td>0</td>\n",
       "      <td>1</td>\n",
       "      <td>0</td>\n",
       "      <td>0</td>\n",
       "      <td>1</td>\n",
       "      <td>1</td>\n",
       "      <td>0</td>\n",
       "      <td>1</td>\n",
       "      <td>0</td>\n",
       "      <td>0</td>\n",
       "      <td>1</td>\n",
       "      <td>0</td>\n",
       "      <td>0</td>\n",
       "    </tr>\n",
       "    <tr>\n",
       "      <th>519</th>\n",
       "      <td>42</td>\n",
       "      <td>0</td>\n",
       "      <td>0</td>\n",
       "      <td>0</td>\n",
       "      <td>0</td>\n",
       "      <td>0</td>\n",
       "      <td>0</td>\n",
       "      <td>0</td>\n",
       "      <td>0</td>\n",
       "      <td>0</td>\n",
       "      <td>0</td>\n",
       "      <td>0</td>\n",
       "      <td>0</td>\n",
       "      <td>0</td>\n",
       "      <td>0</td>\n",
       "      <td>0</td>\n",
       "      <td>0</td>\n",
       "    </tr>\n",
       "  </tbody>\n",
       "</table>\n",
       "<p>520 rows × 17 columns</p>\n",
       "</div>"
      ],
      "text/plain": [
       "     Age  Gender  Polyuria  Polydipsia  sudden weight loss  weakness  \\\n",
       "0     40       0         0           1                   0         1   \n",
       "1     58       0         0           0                   0         1   \n",
       "2     41       0         1           0                   0         1   \n",
       "3     45       0         0           0                   1         1   \n",
       "4     60       0         1           1                   1         1   \n",
       "..   ...     ...       ...         ...                 ...       ...   \n",
       "515   39       1         1           1                   1         0   \n",
       "516   48       1         1           1                   1         1   \n",
       "517   58       1         1           1                   1         1   \n",
       "518   32       1         0           0                   0         1   \n",
       "519   42       0         0           0                   0         0   \n",
       "\n",
       "     Polyphagia  Genital thrush  visual blurring  Itching  Irritability  \\\n",
       "0             0               0                0        1             0   \n",
       "1             0               0                1        0             0   \n",
       "2             1               0                0        1             0   \n",
       "3             1               1                0        1             0   \n",
       "4             1               0                1        1             1   \n",
       "..          ...             ...              ...      ...           ...   \n",
       "515           1               0                0        1             0   \n",
       "516           1               0                0        1             1   \n",
       "517           1               0                1        0             0   \n",
       "518           0               0                1        1             0   \n",
       "519           0               0                0        0             0   \n",
       "\n",
       "     delayed healing  partial paresis  muscle stiffness  Alopecia  Obesity  \\\n",
       "0                  1                0                 1         1        1   \n",
       "1                  0                1                 0         1        0   \n",
       "2                  1                0                 1         1        0   \n",
       "3                  1                0                 0         0        0   \n",
       "4                  1                1                 1         1        1   \n",
       "..               ...              ...               ...       ...      ...   \n",
       "515                1                1                 0         0        0   \n",
       "516                1                1                 0         0        0   \n",
       "517                0                1                 1         0        1   \n",
       "518                1                0                 0         1        0   \n",
       "519                0                0                 0         0        0   \n",
       "\n",
       "     class  \n",
       "0        1  \n",
       "1        1  \n",
       "2        1  \n",
       "3        1  \n",
       "4        1  \n",
       "..     ...  \n",
       "515      1  \n",
       "516      1  \n",
       "517      1  \n",
       "518      0  \n",
       "519      0  \n",
       "\n",
       "[520 rows x 17 columns]"
      ]
     },
     "execution_count": 7,
     "metadata": {},
     "output_type": "execute_result"
    }
   ],
   "source": [
    "df1 = df\n",
    "gender_mapping = {'Male':0, 'Female':1}\n",
    "class_mapping = {'Positive':1, 'Negative':0}\n",
    "df1['Gender'] = df1['Gender'].map(gender_mapping)\n",
    "df1['class'] = df1['class'].map(class_mapping)\n",
    "df1"
   ]
  },
  {
   "cell_type": "code",
   "execution_count": 8,
   "id": "ce5cbee2",
   "metadata": {},
   "outputs": [
    {
     "name": "stdout",
     "output_type": "stream",
     "text": [
      "(520, 17)\n",
      "(520,)\n"
     ]
    }
   ],
   "source": [
    "# Converting the variables into numpy arrays\n",
    "X = df1.values\n",
    "Y = df1.iloc[:,-1].values\n",
    "print(X.shape)\n",
    "print(Y.shape)"
   ]
  },
  {
   "cell_type": "markdown",
   "id": "ebbf5476",
   "metadata": {},
   "source": [
    "### Training and Testing Data\n"
   ]
  },
  {
   "cell_type": "code",
   "execution_count": 9,
   "id": "b45f412f",
   "metadata": {},
   "outputs": [],
   "source": [
    "from sklearn.model_selection import train_test_split\n",
    "\n",
    "X_train, X_test, Y_train, Y_test = \\\n",
    "    train_test_split(X, Y, \n",
    "                     test_size=0.25,\n",
    "                     stratify=Y,\n",
    "                     random_state=1)"
   ]
  },
  {
   "cell_type": "code",
   "execution_count": 10,
   "id": "694f59ae",
   "metadata": {},
   "outputs": [
    {
     "name": "stdout",
     "output_type": "stream",
     "text": [
      "(390, 17)\n",
      "(130, 17)\n"
     ]
    }
   ],
   "source": [
    "print(X_train.shape)\n",
    "print(X_test.shape)"
   ]
  },
  {
   "cell_type": "code",
   "execution_count": 11,
   "id": "6c8e34a6",
   "metadata": {},
   "outputs": [
    {
     "name": "stdout",
     "output_type": "stream",
     "text": [
      "(130,)\n"
     ]
    }
   ],
   "source": [
    "print(Y_test.shape)"
   ]
  },
  {
   "cell_type": "markdown",
   "id": "5d64baec",
   "metadata": {},
   "source": [
    "#### Standardizing the data"
   ]
  },
  {
   "cell_type": "code",
   "execution_count": 12,
   "id": "345b1abc",
   "metadata": {},
   "outputs": [],
   "source": [
    "from sklearn.preprocessing import StandardScaler\n",
    "\n",
    "stdsc = StandardScaler()\n",
    "X_train_std = stdsc.fit_transform(X_train)\n",
    "X_test_std = stdsc.transform(X_test)"
   ]
  },
  {
   "cell_type": "markdown",
   "id": "59a91da6",
   "metadata": {},
   "source": [
    "#### Logistic Regression"
   ]
  },
  {
   "cell_type": "code",
   "execution_count": 13,
   "id": "e7e5fc4e",
   "metadata": {
    "scrolled": true
   },
   "outputs": [
    {
     "name": "stdout",
     "output_type": "stream",
     "text": [
      "The score for training data is:  0.9974358974358974\n",
      "The score for testing data is:  0.9923076923076923\n"
     ]
    },
    {
     "name": "stderr",
     "output_type": "stream",
     "text": [
      "C:\\Users\\kaloa\\Anaconda3\\envs\\hari\\lib\\site-packages\\sklearn\\linear_model\\_logistic.py:763: ConvergenceWarning: lbfgs failed to converge (status=1):\n",
      "STOP: TOTAL NO. of ITERATIONS REACHED LIMIT.\n",
      "\n",
      "Increase the number of iterations (max_iter) or scale the data as shown in:\n",
      "    https://scikit-learn.org/stable/modules/preprocessing.html\n",
      "Please also refer to the documentation for alternative solver options:\n",
      "    https://scikit-learn.org/stable/modules/linear_model.html#logistic-regression\n",
      "  n_iter_i = _check_optimize_result(\n"
     ]
    }
   ],
   "source": [
    "from sklearn.linear_model import LogisticRegression\n",
    "reg =  LogisticRegression(C=20, max_iter=22)\n",
    "reg.fit(X_train, Y_train)\n",
    "print(\"The score for training data is: \", reg.score(X_train, Y_train))\n",
    "print(\"The score for testing data is: \", reg.score(X_test, Y_test))"
   ]
  },
  {
   "cell_type": "code",
   "execution_count": 14,
   "id": "c2ad0936",
   "metadata": {},
   "outputs": [
    {
     "name": "stdout",
     "output_type": "stream",
     "text": [
      "[0.92307692 1.         0.97435897 0.98717949 1.        ]\n",
      "0.976923076923077\n"
     ]
    }
   ],
   "source": [
    "from sklearn.model_selection import cross_val_score\n",
    "scores = cross_val_score(estimator = reg,\n",
    "                        X=X_train, y=Y_train, \n",
    "                        cv=5, n_jobs = -1)\n",
    "print(scores)\n",
    "print(scores.mean())"
   ]
  },
  {
   "cell_type": "code",
   "execution_count": 15,
   "id": "36614100",
   "metadata": {},
   "outputs": [],
   "source": [
    "from sklearn.model_selection import cross_validate"
   ]
  },
  {
   "cell_type": "code",
   "execution_count": 16,
   "id": "31cf4f63",
   "metadata": {},
   "outputs": [
    {
     "name": "stdout",
     "output_type": "stream",
     "text": [
      "{'fit_time': array([0.02148128, 0.0137589 , 0.00805998, 0.01638961, 0.01133657]), 'score_time': array([0.        , 0.        , 0.        , 0.00151896, 0.00219584]), 'test_score': array([0.92307692, 1.        , 0.97435897, 0.98717949, 1.        ]), 'train_score': array([0.98397436, 0.99679487, 0.99679487, 0.99358974, 0.99679487])}\n"
     ]
    },
    {
     "name": "stderr",
     "output_type": "stream",
     "text": [
      "C:\\Users\\kaloa\\Anaconda3\\envs\\hari\\lib\\site-packages\\sklearn\\linear_model\\_logistic.py:763: ConvergenceWarning: lbfgs failed to converge (status=1):\n",
      "STOP: TOTAL NO. of ITERATIONS REACHED LIMIT.\n",
      "\n",
      "Increase the number of iterations (max_iter) or scale the data as shown in:\n",
      "    https://scikit-learn.org/stable/modules/preprocessing.html\n",
      "Please also refer to the documentation for alternative solver options:\n",
      "    https://scikit-learn.org/stable/modules/linear_model.html#logistic-regression\n",
      "  n_iter_i = _check_optimize_result(\n",
      "C:\\Users\\kaloa\\Anaconda3\\envs\\hari\\lib\\site-packages\\sklearn\\linear_model\\_logistic.py:763: ConvergenceWarning: lbfgs failed to converge (status=1):\n",
      "STOP: TOTAL NO. of ITERATIONS REACHED LIMIT.\n",
      "\n",
      "Increase the number of iterations (max_iter) or scale the data as shown in:\n",
      "    https://scikit-learn.org/stable/modules/preprocessing.html\n",
      "Please also refer to the documentation for alternative solver options:\n",
      "    https://scikit-learn.org/stable/modules/linear_model.html#logistic-regression\n",
      "  n_iter_i = _check_optimize_result(\n",
      "C:\\Users\\kaloa\\Anaconda3\\envs\\hari\\lib\\site-packages\\sklearn\\linear_model\\_logistic.py:763: ConvergenceWarning: lbfgs failed to converge (status=1):\n",
      "STOP: TOTAL NO. of ITERATIONS REACHED LIMIT.\n",
      "\n",
      "Increase the number of iterations (max_iter) or scale the data as shown in:\n",
      "    https://scikit-learn.org/stable/modules/preprocessing.html\n",
      "Please also refer to the documentation for alternative solver options:\n",
      "    https://scikit-learn.org/stable/modules/linear_model.html#logistic-regression\n",
      "  n_iter_i = _check_optimize_result(\n",
      "C:\\Users\\kaloa\\Anaconda3\\envs\\hari\\lib\\site-packages\\sklearn\\linear_model\\_logistic.py:763: ConvergenceWarning: lbfgs failed to converge (status=1):\n",
      "STOP: TOTAL NO. of ITERATIONS REACHED LIMIT.\n",
      "\n",
      "Increase the number of iterations (max_iter) or scale the data as shown in:\n",
      "    https://scikit-learn.org/stable/modules/preprocessing.html\n",
      "Please also refer to the documentation for alternative solver options:\n",
      "    https://scikit-learn.org/stable/modules/linear_model.html#logistic-regression\n",
      "  n_iter_i = _check_optimize_result(\n",
      "C:\\Users\\kaloa\\Anaconda3\\envs\\hari\\lib\\site-packages\\sklearn\\linear_model\\_logistic.py:763: ConvergenceWarning: lbfgs failed to converge (status=1):\n",
      "STOP: TOTAL NO. of ITERATIONS REACHED LIMIT.\n",
      "\n",
      "Increase the number of iterations (max_iter) or scale the data as shown in:\n",
      "    https://scikit-learn.org/stable/modules/preprocessing.html\n",
      "Please also refer to the documentation for alternative solver options:\n",
      "    https://scikit-learn.org/stable/modules/linear_model.html#logistic-regression\n",
      "  n_iter_i = _check_optimize_result(\n"
     ]
    }
   ],
   "source": [
    "scores = cross_validate(estimator = reg, X=X_train, y=Y_train, cv=5, scoring='accuracy', return_train_score=True)\n",
    "print(scores)"
   ]
  },
  {
   "cell_type": "code",
   "execution_count": 17,
   "id": "3252c252",
   "metadata": {},
   "outputs": [
    {
     "name": "stdout",
     "output_type": "stream",
     "text": [
      "Average training score is  0.9935897435897436\n"
     ]
    }
   ],
   "source": [
    "train_scores = scores['train_score']\n",
    "print(\"Average training score is \", train_scores.mean())"
   ]
  },
  {
   "cell_type": "code",
   "execution_count": 18,
   "id": "d8603a9f",
   "metadata": {},
   "outputs": [
    {
     "name": "stdout",
     "output_type": "stream",
     "text": [
      "Average testing score is  0.976923076923077\n"
     ]
    }
   ],
   "source": [
    "test_scores = scores['test_score']\n",
    "print(\"Average testing score is \", test_scores.mean())"
   ]
  },
  {
   "cell_type": "markdown",
   "id": "ea2b9636",
   "metadata": {},
   "source": [
    "### Confusion Matrix"
   ]
  },
  {
   "cell_type": "code",
   "execution_count": 19,
   "id": "5a2a0088",
   "metadata": {},
   "outputs": [
    {
     "name": "stdout",
     "output_type": "stream",
     "text": [
      "confusion matrix:\n",
      "[[50  0]\n",
      " [ 1 79]]\n"
     ]
    }
   ],
   "source": [
    "y_pred = reg.predict(X_test) #prediction\n",
    "\n",
    "confM = confusion_matrix(Y_test, \n",
    "                              y_pred)\n",
    "print(\"confusion matrix:\", confM, sep=\"\\n\")"
   ]
  },
  {
   "cell_type": "code",
   "execution_count": 20,
   "id": "13737b7a",
   "metadata": {},
   "outputs": [
    {
     "data": {
      "image/png": "[encoded data removed]",
      "text/plain": [
       "<Figure size 288x288 with 2 Axes>"
      ]
     },
     "metadata": {
      "needs_background": "light"
     },
     "output_type": "display_data"
    }
   ],
   "source": [
    "fig, ax = plt.subplots(1,1,figsize=(4,4))\n",
    "cm = confusion_matrix(Y_test, y_pred)\n",
    "ax = sns.heatmap(cm, annot=True, square=True,\n",
    "                 xticklabels=['Diabetes','No Diabetes'], \n",
    "                 yticklabels=['Diabetes','No Diabetes'])\n",
    "ax.set_xlabel('Predicted')\n",
    "ax.set_ylabel('Actual');"
   ]
  },
  {
   "cell_type": "markdown",
   "id": "412fd0b5",
   "metadata": {},
   "source": [
    "### Support Vector Machine"
   ]
  },
  {
   "cell_type": "code",
   "execution_count": 136,
   "id": "7a9458be",
   "metadata": {},
   "outputs": [
    {
     "name": "stdout",
     "output_type": "stream",
     "text": [
      "The Score for training data is:  1.0\n",
      "The score for testing data is:  1.0\n"
     ]
    },
    {
     "name": "stderr",
     "output_type": "stream",
     "text": [
      "C:\\Users\\kaloa\\Anaconda3\\envs\\hari\\lib\\site-packages\\sklearn\\svm\\_base.py:255: ConvergenceWarning: Solver terminated early (max_iter=1000).  Consider pre-processing your data with StandardScaler or MinMaxScaler.\n",
      "  warnings.warn('Solver terminated early (max_iter=%i).'\n"
     ]
    }
   ],
   "source": [
    "from sklearn import svm\n",
    "sv = svm.SVC(C=1e0, kernel='rbf', gamma=1e0, random_state = None, max_iter=1000)\n",
    "sv.fit(X_train, Y_train)\n",
    "print(\"The Score for training data is: \", sv.score(X_train, Y_train))\n",
    "print(\"The score for testing data is: \", sv.score(X_test, Y_test))"
   ]
  },
  {
   "cell_type": "markdown",
   "id": "4a9200aa",
   "metadata": {},
   "source": [
    "### Confusion Matrix"
   ]
  },
  {
   "cell_type": "code",
   "execution_count": 137,
   "id": "06d6061f",
   "metadata": {},
   "outputs": [
    {
     "name": "stdout",
     "output_type": "stream",
     "text": [
      "confusion matrix:\n",
      "[[50  0]\n",
      " [ 0 80]]\n"
     ]
    }
   ],
   "source": [
    "y_pred = sv.predict(X_test) #prediction\n",
    "\n",
    "confM = confusion_matrix(Y_test, \n",
    "                              y_pred)\n",
    "print(\"confusion matrix:\", confM, sep=\"\\n\")"
   ]
  },
  {
   "cell_type": "code",
   "execution_count": 138,
   "id": "116af7dd",
   "metadata": {},
   "outputs": [
    {
     "data": {
      "image/png": "[encoded data removed]",
      "text/plain": [
       "<Figure size 288x288 with 2 Axes>"
      ]
     },
     "metadata": {
      "needs_background": "light"
     },
     "output_type": "display_data"
    }
   ],
   "source": [
    "fig, ax = plt.subplots(1,1,figsize=(4,4))\n",
    "cm = confusion_matrix(Y_test, y_pred)\n",
    "ax = sns.heatmap(cm, annot=True, square=True,\n",
    "                 xticklabels=['Diabetes','No Diabetes'], \n",
    "                 yticklabels=['Diabetes','No Diabetes'])\n",
    "ax.set_xlabel('Predicted')\n",
    "ax.set_ylabel('Actual');"
   ]
  },
  {
   "cell_type": "markdown",
   "id": "b16acfc2",
   "metadata": {},
   "source": [
    "### Multi Layer Perceptron "
   ]
  },
  {
   "cell_type": "code",
   "execution_count": 24,
   "id": "e4700250",
   "metadata": {},
   "outputs": [
    {
     "name": "stdout",
     "output_type": "stream",
     "text": [
      "Score for training data is:  0.9846153846153847\n",
      "Score for testing data is:  0.9692307692307692\n"
     ]
    },
    {
     "name": "stderr",
     "output_type": "stream",
     "text": [
      "C:\\Users\\kaloa\\Anaconda3\\envs\\hari\\lib\\site-packages\\sklearn\\neural_network\\_multilayer_perceptron.py:614: ConvergenceWarning: Stochastic Optimizer: Maximum iterations (200) reached and the optimization hasn't converged yet.\n",
      "  warnings.warn(\n"
     ]
    }
   ],
   "source": [
    "from sklearn.neural_network import MLPClassifier\n",
    "nn=MLPClassifier(hidden_layer_sizes = (70,), alpha=1e-2)\n",
    "nn.fit(X_train, Y_train)\n",
    "print(\"Score for training data is: \", nn.score(X_train, Y_train))\n",
    "print(\"Score for testing data is: \", nn.score(X_test, Y_test))"
   ]
  },
  {
   "cell_type": "code",
   "execution_count": 25,
   "id": "44d24a50",
   "metadata": {},
   "outputs": [
    {
     "name": "stderr",
     "output_type": "stream",
     "text": [
      "C:\\Users\\kaloa\\Anaconda3\\envs\\hari\\lib\\site-packages\\sklearn\\neural_network\\_multilayer_perceptron.py:614: ConvergenceWarning: Stochastic Optimizer: Maximum iterations (200) reached and the optimization hasn't converged yet.\n",
      "  warnings.warn(\n",
      "C:\\Users\\kaloa\\Anaconda3\\envs\\hari\\lib\\site-packages\\sklearn\\neural_network\\_multilayer_perceptron.py:614: ConvergenceWarning: Stochastic Optimizer: Maximum iterations (200) reached and the optimization hasn't converged yet.\n",
      "  warnings.warn(\n",
      "C:\\Users\\kaloa\\Anaconda3\\envs\\hari\\lib\\site-packages\\sklearn\\neural_network\\_multilayer_perceptron.py:614: ConvergenceWarning: Stochastic Optimizer: Maximum iterations (200) reached and the optimization hasn't converged yet.\n",
      "  warnings.warn(\n",
      "C:\\Users\\kaloa\\Anaconda3\\envs\\hari\\lib\\site-packages\\sklearn\\neural_network\\_multilayer_perceptron.py:614: ConvergenceWarning: Stochastic Optimizer: Maximum iterations (200) reached and the optimization hasn't converged yet.\n",
      "  warnings.warn(\n"
     ]
    },
    {
     "name": "stdout",
     "output_type": "stream",
     "text": [
      "{'fit_time': array([0.81177998, 0.82784605, 0.75780463, 0.76107883, 0.83530498]), 'score_time': array([0.00242329, 0.00100517, 0.00204968, 0.00199938, 0.00100136]), 'test_score': array([0.93589744, 1.        , 0.97435897, 0.98717949, 0.98717949]), 'train_score': array([0.99038462, 0.99358974, 0.98717949, 0.98397436, 0.99038462])}\n"
     ]
    },
    {
     "name": "stderr",
     "output_type": "stream",
     "text": [
      "C:\\Users\\kaloa\\Anaconda3\\envs\\hari\\lib\\site-packages\\sklearn\\neural_network\\_multilayer_perceptron.py:614: ConvergenceWarning: Stochastic Optimizer: Maximum iterations (200) reached and the optimization hasn't converged yet.\n",
      "  warnings.warn(\n"
     ]
    }
   ],
   "source": [
    "scores = cross_validate(estimator = nn, X=X_train, y=Y_train, cv=5, scoring='accuracy', return_train_score=True)\n",
    "print(scores)"
   ]
  },
  {
   "cell_type": "code",
   "execution_count": 26,
   "id": "1558a205",
   "metadata": {},
   "outputs": [
    {
     "name": "stdout",
     "output_type": "stream",
     "text": [
      "{'fit_time': array([0.81177998, 0.82784605, 0.75780463, 0.76107883, 0.83530498]), 'score_time': array([0.00242329, 0.00100517, 0.00204968, 0.00199938, 0.00100136]), 'test_score': array([0.93589744, 1.        , 0.97435897, 0.98717949, 0.98717949]), 'train_score': array([0.99038462, 0.99358974, 0.98717949, 0.98397436, 0.99038462])}\n"
     ]
    },
    {
     "ename": "AttributeError",
     "evalue": "'dict' object has no attribute 'mean'",
     "output_type": "error",
     "traceback": [
      "\u001b[1;31m---------------------------------------------------------------------------\u001b[0m",
      "\u001b[1;31mAttributeError\u001b[0m                            Traceback (most recent call last)",
      "\u001b[1;32m~\\AppData\\Local\\Temp/ipykernel_19764/3269866882.py\u001b[0m in \u001b[0;36m<module>\u001b[1;34m\u001b[0m\n\u001b[0;32m      1\u001b[0m \u001b[0mprint\u001b[0m\u001b[1;33m(\u001b[0m\u001b[0mscores\u001b[0m\u001b[1;33m)\u001b[0m\u001b[1;33m\u001b[0m\u001b[1;33m\u001b[0m\u001b[0m\n\u001b[1;32m----> 2\u001b[1;33m \u001b[0mprint\u001b[0m\u001b[1;33m(\u001b[0m\u001b[0mscores\u001b[0m\u001b[1;33m.\u001b[0m\u001b[0mmean\u001b[0m\u001b[1;33m(\u001b[0m\u001b[1;33m)\u001b[0m\u001b[1;33m)\u001b[0m\u001b[1;33m\u001b[0m\u001b[1;33m\u001b[0m\u001b[0m\n\u001b[0m",
      "\u001b[1;31mAttributeError\u001b[0m: 'dict' object has no attribute 'mean'"
     ]
    }
   ],
   "source": [
    "print(scores)\n",
    "print(scores.mean())"
   ]
  },
  {
   "cell_type": "markdown",
   "id": "580cd3ff",
   "metadata": {},
   "source": [
    "### Confusion Matrix"
   ]
  },
  {
   "cell_type": "code",
   "execution_count": 27,
   "id": "412f1cff",
   "metadata": {},
   "outputs": [
    {
     "name": "stdout",
     "output_type": "stream",
     "text": [
      "confusion matrix:\n",
      "[[49  1]\n",
      " [ 3 77]]\n"
     ]
    }
   ],
   "source": [
    "y_pred = nn.predict(X_test) #prediction\n",
    "\n",
    "cm = confusion_matrix(Y_test, \n",
    "                              y_pred)\n",
    "print(\"confusion matrix:\", cm, sep=\"\\n\")"
   ]
  },
  {
   "cell_type": "code",
   "execution_count": 28,
   "id": "85fa04ae",
   "metadata": {},
   "outputs": [
    {
     "data": {
      "image/png": "[encoded data removed]",
      "text/plain": [
       "<Figure size 288x288 with 2 Axes>"
      ]
     },
     "metadata": {
      "needs_background": "light"
     },
     "output_type": "display_data"
    }
   ],
   "source": [
    "fig, ax = plt.subplots(1,1,figsize=(4,4))\n",
    "cm = confusion_matrix(Y_test, y_pred)\n",
    "ax = sns.heatmap(cm, annot=True, square=True,\n",
    "                 xticklabels=['Diabetes','No Diabetes'], \n",
    "                 yticklabels=['Diabetes','No Diabetes'])\n",
    "ax.set_xlabel('Predicted')\n",
    "ax.set_ylabel('Actual');"
   ]
  },
  {
   "cell_type": "code",
   "execution_count": null,
   "id": "5a045399",
   "metadata": {},
   "outputs": [],
   "source": []
  },
  {
   "cell_type": "markdown",
   "id": "9e5780ef",
   "metadata": {},
   "source": [
    "### Grid Search using SVC"
   ]
  },
  {
   "cell_type": "code",
   "execution_count": 29,
   "id": "e28f7bf2",
   "metadata": {},
   "outputs": [],
   "source": [
    "from sklearn.model_selection import GridSearchCV"
   ]
  },
  {
   "cell_type": "code",
   "execution_count": 30,
   "id": "38cafccb",
   "metadata": {},
   "outputs": [
    {
     "name": "stdout",
     "output_type": "stream",
     "text": [
      "[1.e-04 1.e-03 1.e-02 1.e-01 1.e+00 1.e+01 1.e+02]\n"
     ]
    }
   ],
   "source": [
    "C_range = np.logspace(-2, 4, 7)\n",
    "gamma_range = np.logspace(-4, 2, 7)\n",
    "print(gamma_range)"
   ]
  },
  {
   "cell_type": "code",
   "execution_count": 31,
   "id": "b2cd4784",
   "metadata": {},
   "outputs": [],
   "source": [
    "param_grid = [{'C': C_range, 'kernel': ['linear']},\n",
    "    {'C': C_range, 'degree':[2,3,4], 'kernel':['poly']},\n",
    "    {'C': C_range, \n",
    "    'gamma': gamma_range, \n",
    "    'kernel': ['rbf']}]"
   ]
  },
  {
   "cell_type": "markdown",
   "id": "e5d67969",
   "metadata": {},
   "source": [
    "### Accuracy"
   ]
  },
  {
   "cell_type": "code",
   "execution_count": 32,
   "id": "99bd889e",
   "metadata": {},
   "outputs": [],
   "source": [
    "svc = svm.SVC()\n",
    "gs = GridSearchCV(estimator=svc, \n",
    "    param_grid=param_grid, \n",
    "    scoring='accuracy', \n",
    "    cv=5,\n",
    "    n_jobs=-1)"
   ]
  },
  {
   "cell_type": "code",
   "execution_count": 33,
   "id": "627824c3",
   "metadata": {},
   "outputs": [
    {
     "data": {
      "text/plain": [
       "GridSearchCV(cv=5, estimator=SVC(), n_jobs=-1,\n",
       "             param_grid=[{'C': array([1.e-02, 1.e-01, 1.e+00, 1.e+01, 1.e+02, 1.e+03, 1.e+04]),\n",
       "                          'kernel': ['linear']},\n",
       "                         {'C': array([1.e-02, 1.e-01, 1.e+00, 1.e+01, 1.e+02, 1.e+03, 1.e+04]),\n",
       "                          'degree': [2, 3, 4], 'kernel': ['poly']},\n",
       "                         {'C': array([1.e-02, 1.e-01, 1.e+00, 1.e+01, 1.e+02, 1.e+03, 1.e+04]),\n",
       "                          'gamma': array([1.e-04, 1.e-03, 1.e-02, 1.e-01, 1.e+00, 1.e+01, 1.e+02]),\n",
       "                          'kernel': ['rbf']}],\n",
       "             scoring='accuracy')"
      ]
     },
     "execution_count": 33,
     "metadata": {},
     "output_type": "execute_result"
    }
   ],
   "source": [
    "gs.fit(X_train, Y_train)"
   ]
  },
  {
   "cell_type": "code",
   "execution_count": 34,
   "id": "4a139151",
   "metadata": {},
   "outputs": [
    {
     "name": "stdout",
     "output_type": "stream",
     "text": [
      "SVC(C=0.1, kernel='linear')\n",
      "1.0\n"
     ]
    }
   ],
   "source": [
    "print(gs.best_estimator_)\n",
    "print(gs.best_score_)"
   ]
  },
  {
   "cell_type": "code",
   "execution_count": 35,
   "id": "2be41c88",
   "metadata": {},
   "outputs": [],
   "source": [
    "estimator = gs.best_estimator_.fit(X_train, Y_train)"
   ]
  },
  {
   "cell_type": "code",
   "execution_count": 36,
   "id": "c5173f5e",
   "metadata": {},
   "outputs": [
    {
     "name": "stdout",
     "output_type": "stream",
     "text": [
      "Best training score: 1.0\n",
      "Best hyper-parameters : {'C': 0.1, 'kernel': 'linear'}\n",
      "Best test score:  1.0\n"
     ]
    }
   ],
   "source": [
    "print(\"Best training score:\", gs.best_estimator_.score(X_train, Y_train))\n",
    "print(\"Best hyper-parameters :\", gs.best_params_)\n",
    "print(\"Best test score: \", gs.best_estimator_.score(X_test, Y_test))"
   ]
  },
  {
   "cell_type": "markdown",
   "id": "98b7680f",
   "metadata": {},
   "source": [
    "Testing data  for confusion matrix"
   ]
  },
  {
   "cell_type": "code",
   "execution_count": 37,
   "id": "b627d463",
   "metadata": {},
   "outputs": [
    {
     "name": "stdout",
     "output_type": "stream",
     "text": [
      "confusion matrix:\n",
      "[[50  0]\n",
      " [ 0 80]]\n"
     ]
    }
   ],
   "source": [
    "y_pred = gs.predict(X_test) #prediction\n",
    "\n",
    "cm = confusion_matrix(Y_test, \n",
    "                              y_pred)\n",
    "print(\"confusion matrix:\", cm, sep=\"\\n\")"
   ]
  },
  {
   "cell_type": "code",
   "execution_count": 38,
   "id": "c03b125c",
   "metadata": {},
   "outputs": [
    {
     "data": {
      "image/png": "[encoded data removed]",
      "text/plain": [
       "<Figure size 288x288 with 2 Axes>"
      ]
     },
     "metadata": {
      "needs_background": "light"
     },
     "output_type": "display_data"
    }
   ],
   "source": [
    "fig, ax = plt.subplots(1,1,figsize=(4,4))\n",
    "cm = confusion_matrix(Y_test, y_pred)\n",
    "ax = sns.heatmap(cm, annot=True, square=True,\n",
    "                 xticklabels=['Diabetes','No Diabetes'], \n",
    "                 yticklabels=['Diabetes','No Diabetes'])\n",
    "ax.set_xlabel('Predicted')\n",
    "ax.set_ylabel('Actual');"
   ]
  },
  {
   "cell_type": "markdown",
   "id": "2b3232a6",
   "metadata": {},
   "source": [
    "Training Data for Confusion Matrix"
   ]
  },
  {
   "cell_type": "code",
   "execution_count": 39,
   "id": "d18b18d0",
   "metadata": {},
   "outputs": [
    {
     "name": "stdout",
     "output_type": "stream",
     "text": [
      "confusion matrix:\n",
      "[[150   0]\n",
      " [  0 240]]\n"
     ]
    }
   ],
   "source": [
    "y_pred = gs.predict(X_train) #prediction\n",
    "cm = confusion_matrix(Y_train, \n",
    "                              y_pred)\n",
    "print(\"confusion matrix:\", cm, sep=\"\\n\")"
   ]
  },
  {
   "cell_type": "code",
   "execution_count": 40,
   "id": "30d0f518",
   "metadata": {},
   "outputs": [
    {
     "data": {
      "image/png": "[encoded data removed]",
      "text/plain": [
       "<Figure size 288x288 with 2 Axes>"
      ]
     },
     "metadata": {
      "needs_background": "light"
     },
     "output_type": "display_data"
    }
   ],
   "source": [
    "fig, ax = plt.subplots(1,1,figsize=(4,4))\n",
    "cm = confusion_matrix(Y_train, y_pred)\n",
    "ax = sns.heatmap(cm, annot=True, square=True,\n",
    "                 xticklabels=['Diabetes','No Diabetes'], \n",
    "                 yticklabels=['Diabetes','No Diabetes'])\n",
    "ax.set_xlabel('Predicted')\n",
    "ax.set_ylabel('Actual');"
   ]
  },
  {
   "cell_type": "markdown",
   "id": "6442d0e8",
   "metadata": {},
   "source": [
    "### Precision Score"
   ]
  },
  {
   "cell_type": "code",
   "execution_count": 41,
   "id": "b733f3d3",
   "metadata": {},
   "outputs": [],
   "source": [
    "svc = svm.SVC()\n",
    "gs1 = GridSearchCV(estimator=svc, \n",
    "    param_grid=param_grid, \n",
    "    scoring='precision', \n",
    "    cv=5,\n",
    "    n_jobs=-1)"
   ]
  },
  {
   "cell_type": "code",
   "execution_count": 42,
   "id": "0c6d1ef2",
   "metadata": {},
   "outputs": [
    {
     "name": "stdout",
     "output_type": "stream",
     "text": [
      "SVC(C=0.01, kernel='linear')\n",
      "1.0\n"
     ]
    }
   ],
   "source": [
    "gs1.fit(X_train, Y_train)\n",
    "print(gs1.best_estimator_)\n",
    "print(gs1.best_score_)"
   ]
  },
  {
   "cell_type": "code",
   "execution_count": 43,
   "id": "f6994d54",
   "metadata": {},
   "outputs": [],
   "source": [
    "estimator = gs1.best_estimator_.fit(X_train, Y_train)"
   ]
  },
  {
   "cell_type": "code",
   "execution_count": 44,
   "id": "153705c0",
   "metadata": {},
   "outputs": [
    {
     "name": "stdout",
     "output_type": "stream",
     "text": [
      "Best training score: 1.0\n",
      "Best hyper-parameters : {'C': 0.01, 'kernel': 'linear'}\n",
      "Best test score:  1.0\n"
     ]
    }
   ],
   "source": [
    "print(\"Best training score:\", gs1.best_estimator_.score(X_train, Y_train))\n",
    "print(\"Best hyper-parameters :\", gs1.best_params_)\n",
    "print(\"Best test score: \", gs1.best_estimator_.score(X_test, Y_test))"
   ]
  },
  {
   "cell_type": "markdown",
   "id": "f6a4274d",
   "metadata": {},
   "source": [
    "Testing Data Confusion Matrix"
   ]
  },
  {
   "cell_type": "code",
   "execution_count": 45,
   "id": "13111405",
   "metadata": {},
   "outputs": [
    {
     "name": "stdout",
     "output_type": "stream",
     "text": [
      "confusion matrix:\n",
      "[[50  0]\n",
      " [ 0 80]]\n"
     ]
    }
   ],
   "source": [
    "y_pred = gs1.predict(X_test) #prediction\n",
    "\n",
    "cm = confusion_matrix(Y_test, \n",
    "                              y_pred)\n",
    "print(\"confusion matrix:\", cm, sep=\"\\n\")\n"
   ]
  },
  {
   "cell_type": "code",
   "execution_count": 46,
   "id": "bc09c688",
   "metadata": {},
   "outputs": [
    {
     "data": {
      "image/png": "[encoded data removed]",
      "text/plain": [
       "<Figure size 288x288 with 2 Axes>"
      ]
     },
     "metadata": {
      "needs_background": "light"
     },
     "output_type": "display_data"
    }
   ],
   "source": [
    "fig, ax = plt.subplots(1,1,figsize=(4,4))\n",
    "cm = confusion_matrix(Y_test, y_pred)\n",
    "ax = sns.heatmap(cm, annot=True, square=True,\n",
    "                 xticklabels=['Diabetes','No Diabetes'], \n",
    "                 yticklabels=['Diabetes','No Diabetes'])\n",
    "ax.set_xlabel('Predicted')\n",
    "ax.set_ylabel('Actual');"
   ]
  },
  {
   "cell_type": "markdown",
   "id": "4cd5fb2c",
   "metadata": {},
   "source": [
    "Training Data Confusion Matrix"
   ]
  },
  {
   "cell_type": "code",
   "execution_count": 47,
   "id": "9eb955bc",
   "metadata": {},
   "outputs": [
    {
     "name": "stdout",
     "output_type": "stream",
     "text": [
      "confusion matrix:\n",
      "[[150   0]\n",
      " [  0 240]]\n"
     ]
    },
    {
     "data": {
      "image/png": "[encoded data removed]",
      "text/plain": [
       "<Figure size 288x288 with 2 Axes>"
      ]
     },
     "metadata": {
      "needs_background": "light"
     },
     "output_type": "display_data"
    }
   ],
   "source": [
    "y_pred = gs1.predict(X_train) #prediction\n",
    "cm = confusion_matrix(Y_train, \n",
    "                              y_pred)\n",
    "print(\"confusion matrix:\", cm, sep=\"\\n\")\n",
    "\n",
    "fig, ax = plt.subplots(1,1,figsize=(4,4))\n",
    "cm = confusion_matrix(Y_train, y_pred)\n",
    "ax = sns.heatmap(cm, annot=True, square=True,\n",
    "                 xticklabels=['Diabetes','No Diabetes'], \n",
    "                 yticklabels=['Diabetes','No Diabetes'])\n",
    "ax.set_xlabel('Predicted')\n",
    "ax.set_ylabel('Actual');"
   ]
  },
  {
   "cell_type": "markdown",
   "id": "1ed606c4",
   "metadata": {},
   "source": [
    "## Recall Score"
   ]
  },
  {
   "cell_type": "code",
   "execution_count": 48,
   "id": "ecd65040",
   "metadata": {},
   "outputs": [],
   "source": [
    "svc = svm.SVC()\n",
    "gs = GridSearchCV(estimator=svc, \n",
    "    param_grid=param_grid, \n",
    "    scoring='recall', \n",
    "    cv=5,\n",
    "    n_jobs=-1)"
   ]
  },
  {
   "cell_type": "code",
   "execution_count": 49,
   "id": "211c54cd",
   "metadata": {},
   "outputs": [
    {
     "name": "stdout",
     "output_type": "stream",
     "text": [
      "SVC(C=0.1, kernel='linear')\n",
      "1.0\n"
     ]
    }
   ],
   "source": [
    "gs.fit(X_train, Y_train)\n",
    "print(gs.best_estimator_)\n",
    "print(gs.best_score_)"
   ]
  },
  {
   "cell_type": "code",
   "execution_count": 50,
   "id": "5040a544",
   "metadata": {},
   "outputs": [],
   "source": [
    "estimator = gs.best_estimator_.fit(X_train, Y_train)"
   ]
  },
  {
   "cell_type": "code",
   "execution_count": 51,
   "id": "f54737bc",
   "metadata": {},
   "outputs": [
    {
     "name": "stdout",
     "output_type": "stream",
     "text": [
      "Best training score: 1.0\n",
      "Best hyper-parameters : {'C': 0.1, 'kernel': 'linear'}\n",
      "Best test score:  1.0\n"
     ]
    }
   ],
   "source": [
    "print(\"Best training score:\", gs.best_estimator_.score(X_train, Y_train))\n",
    "print(\"Best hyper-parameters :\", gs.best_params_)\n",
    "print(\"Best test score: \", gs.best_estimator_.score(X_test, Y_test))"
   ]
  },
  {
   "cell_type": "markdown",
   "id": "266d7c74",
   "metadata": {},
   "source": [
    "Training Data Confusion Matrix"
   ]
  },
  {
   "cell_type": "code",
   "execution_count": 52,
   "id": "ff0ad320",
   "metadata": {},
   "outputs": [
    {
     "name": "stdout",
     "output_type": "stream",
     "text": [
      "confusion matrix:\n",
      "[[150   0]\n",
      " [  0 240]]\n"
     ]
    },
    {
     "data": {
      "image/png": "[encoded data removed]",
      "text/plain": [
       "<Figure size 288x288 with 2 Axes>"
      ]
     },
     "metadata": {
      "needs_background": "light"
     },
     "output_type": "display_data"
    }
   ],
   "source": [
    "y_pred = gs.predict(X_train) #prediction\n",
    "cm = confusion_matrix(Y_train, \n",
    "                              y_pred)\n",
    "print(\"confusion matrix:\", cm, sep=\"\\n\")\n",
    "\n",
    "fig, ax = plt.subplots(1,1,figsize=(4,4))\n",
    "cm = confusion_matrix(Y_train, y_pred)\n",
    "ax = sns.heatmap(cm, annot=True, square=True,\n",
    "                 xticklabels=['Diabetes','No Diabetes'], \n",
    "                 yticklabels=['Diabetes','No Diabetes'])\n",
    "ax.set_xlabel('Predicted')\n",
    "ax.set_ylabel('Actual');"
   ]
  },
  {
   "cell_type": "markdown",
   "id": "fc2e01a2",
   "metadata": {},
   "source": [
    "Testing Data Confusion Matrix"
   ]
  },
  {
   "cell_type": "code",
   "execution_count": 53,
   "id": "e7ab0593",
   "metadata": {},
   "outputs": [
    {
     "name": "stdout",
     "output_type": "stream",
     "text": [
      "confusion matrix:\n",
      "[[50  0]\n",
      " [ 0 80]]\n"
     ]
    },
    {
     "data": {
      "image/png": "[encoded data removed]",
      "text/plain": [
       "<Figure size 288x288 with 2 Axes>"
      ]
     },
     "metadata": {
      "needs_background": "light"
     },
     "output_type": "display_data"
    }
   ],
   "source": [
    "y_pred = gs.predict(X_test) #prediction\n",
    "cm = confusion_matrix(Y_test, \n",
    "                              y_pred)\n",
    "print(\"confusion matrix:\", cm, sep=\"\\n\")\n",
    "\n",
    "fig, ax = plt.subplots(1,1,figsize=(4,4))\n",
    "cm = confusion_matrix(Y_test, y_pred)\n",
    "ax = sns.heatmap(cm, annot=True, square=True,\n",
    "                 xticklabels=['Diabetes','No Diabetes'], \n",
    "                 yticklabels=['Diabetes','No Diabetes'])\n",
    "ax.set_xlabel('Predicted')\n",
    "ax.set_ylabel('Actual');"
   ]
  },
  {
   "cell_type": "markdown",
   "id": "d5e442a4",
   "metadata": {},
   "source": [
    "### F1 Score"
   ]
  },
  {
   "cell_type": "code",
   "execution_count": 54,
   "id": "409c28e4",
   "metadata": {},
   "outputs": [],
   "source": [
    "svc = svm.SVC()\n",
    "gs = GridSearchCV(estimator=svc, \n",
    "    param_grid=param_grid, \n",
    "    scoring='f1', \n",
    "    cv=7,\n",
    "    n_jobs=-1)"
   ]
  },
  {
   "cell_type": "code",
   "execution_count": 55,
   "id": "e63edbcd",
   "metadata": {},
   "outputs": [
    {
     "name": "stdout",
     "output_type": "stream",
     "text": [
      "SVC(C=0.1, kernel='linear')\n",
      "1.0\n"
     ]
    }
   ],
   "source": [
    "gs.fit(X_train, Y_train)\n",
    "print(gs.best_estimator_)\n",
    "print(gs.best_score_)"
   ]
  },
  {
   "cell_type": "code",
   "execution_count": 56,
   "id": "f9793504",
   "metadata": {},
   "outputs": [],
   "source": [
    "estimator = gs.best_estimator_.fit(X_train, Y_train)"
   ]
  },
  {
   "cell_type": "code",
   "execution_count": 57,
   "id": "cffdd2c2",
   "metadata": {},
   "outputs": [
    {
     "name": "stdout",
     "output_type": "stream",
     "text": [
      "Best training score: 1.0\n",
      "Best hyper-parameters : {'C': 0.1, 'kernel': 'linear'}\n",
      "Best test score:  1.0\n"
     ]
    }
   ],
   "source": [
    "print(\"Best training score:\", gs.best_estimator_.score(X_train, Y_train))\n",
    "print(\"Best hyper-parameters :\", gs.best_params_)\n",
    "print(\"Best test score: \", gs.best_estimator_.score(X_test, Y_test))"
   ]
  },
  {
   "cell_type": "markdown",
   "id": "9344e1e6",
   "metadata": {},
   "source": [
    "Training Data Confusion Matrix"
   ]
  },
  {
   "cell_type": "code",
   "execution_count": 58,
   "id": "1c40976a",
   "metadata": {},
   "outputs": [
    {
     "name": "stdout",
     "output_type": "stream",
     "text": [
      "confusion matrix:\n",
      "[[150   0]\n",
      " [  0 240]]\n"
     ]
    },
    {
     "data": {
      "image/png": "[encoded data removed]",
      "text/plain": [
       "<Figure size 288x288 with 2 Axes>"
      ]
     },
     "metadata": {
      "needs_background": "light"
     },
     "output_type": "display_data"
    }
   ],
   "source": [
    "y_pred = gs.predict(X_train) #prediction\n",
    "cm = confusion_matrix(Y_train, \n",
    "                              y_pred)\n",
    "print(\"confusion matrix:\", cm, sep=\"\\n\")\n",
    "\n",
    "fig, ax = plt.subplots(1,1,figsize=(4,4))\n",
    "cm = confusion_matrix(Y_train, y_pred)\n",
    "ax = sns.heatmap(cm, annot=True, square=True,\n",
    "                 xticklabels=['Diabetes','No Diabetes'], \n",
    "                 yticklabels=['Diabetes','No Diabetes'])\n",
    "ax.set_xlabel('Predicted')\n",
    "ax.set_ylabel('Actual');"
   ]
  },
  {
   "cell_type": "markdown",
   "id": "376fa3fc",
   "metadata": {},
   "source": [
    "Testing Data Confusion Matrix"
   ]
  },
  {
   "cell_type": "code",
   "execution_count": 59,
   "id": "4c72cb7e",
   "metadata": {},
   "outputs": [
    {
     "name": "stdout",
     "output_type": "stream",
     "text": [
      "confusion matrix:\n",
      "[[50  0]\n",
      " [ 0 80]]\n"
     ]
    },
    {
     "data": {
      "image/png": "[encoded data removed]",
      "text/plain": [
       "<Figure size 288x288 with 2 Axes>"
      ]
     },
     "metadata": {
      "needs_background": "light"
     },
     "output_type": "display_data"
    }
   ],
   "source": [
    "y_pred = gs.predict(X_test) #prediction\n",
    "cm = confusion_matrix(Y_test, \n",
    "                              y_pred)\n",
    "print(\"confusion matrix:\", cm, sep=\"\\n\")\n",
    "\n",
    "fig, ax = plt.subplots(1,1,figsize=(4,4))\n",
    "cm = confusion_matrix(Y_test, y_pred)\n",
    "ax = sns.heatmap(cm, annot=True, square=True,\n",
    "                 xticklabels=['Diabetes','No Diabetes'], \n",
    "                 yticklabels=['Diabetes','No Diabetes'])\n",
    "ax.set_xlabel('Predicted')\n",
    "ax.set_ylabel('Actual');"
   ]
  },
  {
   "cell_type": "markdown",
   "id": "5f960f79",
   "metadata": {},
   "source": [
    "# Logistic Regression GridSearch"
   ]
  },
  {
   "cell_type": "code",
   "execution_count": 96,
   "id": "5e65aa7e",
   "metadata": {},
   "outputs": [
    {
     "name": "stdout",
     "output_type": "stream",
     "text": [
      "[{'solver': ['lbfgs', 'liblinear', 'saga'], 'multi_class': ['auto'], 'C': array([1.e-02, 1.e-01, 1.e+00, 1.e+01, 1.e+02, 1.e+03, 1.e+04]), 'penalty': ['l1', 'l2'], 'class_weight': [{1: 0.5, 0: 0.5}, {1: 0.4, 0: 0.6}, {1: 0.6, 0: 0.4}, {1: 0.7, 0: 0.3}]}]\n"
     ]
    }
   ],
   "source": [
    "reg= LogisticRegression()\n",
    "param_grid = [{'solver':['lbfgs', 'liblinear', 'saga'], 'multi_class':['auto'], 'C':C_range, 'penalty':['l1', 'l2'], 'class_weight':[{1:0.5, 0:0.5}, {1:0.4, 0:0.6}, {1:0.6, 0:0.4}, {1:0.7, 0:0.3}]}]\n",
    "gs = GridSearchCV(estimator=reg, \n",
    "    param_grid=param_grid, \n",
    "    scoring='accuracy', \n",
    "    cv=5,\n",
    "    n_jobs=-1)\n",
    "print(param_grid)"
   ]
  },
  {
   "cell_type": "code",
   "execution_count": 97,
   "id": "e9637ac1",
   "metadata": {},
   "outputs": [
    {
     "name": "stdout",
     "output_type": "stream",
     "text": [
      "LogisticRegression(C=0.1, class_weight={0: 0.5, 1: 0.5}, penalty='l1',\n",
      "                   solver='liblinear')\n",
      "1.0\n"
     ]
    },
    {
     "name": "stderr",
     "output_type": "stream",
     "text": [
      "C:\\Users\\kaloa\\Anaconda3\\envs\\hari\\lib\\site-packages\\sklearn\\model_selection\\_search.py:922: UserWarning: One or more of the test scores are non-finite: [       nan 0.61538462 0.61538462 0.82307692 0.7974359  0.77948718\n",
      "        nan 0.61538462 0.61538462 0.91282051 0.97692308 0.97692308\n",
      "        nan 0.61538462 0.61538462 0.62051282 0.61538462 0.61538462\n",
      "        nan 0.61538462 0.61538462 0.61538462 0.61538462 0.61538462\n",
      "        nan 1.         0.93589744 0.99230769 0.99230769 0.97179487\n",
      "        nan 1.         0.99487179 0.99487179 0.97435897 0.96666667\n",
      "        nan 1.         0.61538462 0.98461538 0.98717949 0.83846154\n",
      "        nan 1.         0.61538462 0.95641026 0.96666667 0.61538462\n",
      "        nan 1.         0.98461538 1.         1.         0.98205128\n",
      "        nan 1.         0.96923077 1.         1.         0.96666667\n",
      "        nan 1.         0.88205128 1.         1.         0.88717949\n",
      "        nan 1.         0.61794872 1.         0.9974359  0.65384615\n",
      "        nan 1.         0.98205128 1.         1.         0.98461538\n",
      "        nan 1.         0.96666667 1.         1.         0.96666667\n",
      "        nan 1.         0.88974359 1.         1.         0.88974359\n",
      "        nan 1.         0.65384615 1.         1.         0.65384615\n",
      "        nan 1.         0.98205128 1.         1.         0.98205128\n",
      "        nan 1.         0.96666667 1.         1.         0.96666667\n",
      "        nan 1.         0.88974359 1.         1.         0.88974359\n",
      "        nan 1.         0.65384615 1.         1.         0.65384615\n",
      "        nan 1.         0.98461538 1.         1.         0.98461538\n",
      "        nan 1.         0.96666667 1.         1.         0.96666667\n",
      "        nan 1.         0.88974359 1.         1.         0.88974359\n",
      "        nan 1.         0.65384615 1.         1.         0.65384615\n",
      "        nan 1.         0.98461538 1.         1.         0.98461538\n",
      "        nan 1.         0.96666667 1.         1.         0.96666667\n",
      "        nan 1.         0.88974359 1.         1.         0.89230769\n",
      "        nan 1.         0.65384615 1.         1.         0.65384615]\n",
      "  warnings.warn(\n"
     ]
    }
   ],
   "source": [
    "gs.fit(X_train, Y_train)\n",
    "print(gs.best_estimator_)\n",
    "print(gs.best_score_)"
   ]
  },
  {
   "cell_type": "code",
   "execution_count": 98,
   "id": "2e7f4059",
   "metadata": {},
   "outputs": [
    {
     "name": "stdout",
     "output_type": "stream",
     "text": [
      "Training set score: 1.0\n",
      "Best hyper-parameters : {'C': 0.1, 'class_weight': {1: 0.5, 0: 0.5}, 'multi_class': 'auto', 'penalty': 'l1', 'solver': 'liblinear'}\n",
      "Test set score:  1.0\n"
     ]
    }
   ],
   "source": [
    "print('Training set score:', gs.best_estimator_.score(X_train, Y_train))\n",
    "print(\"Best hyper-parameters :\", gs.best_params_)\n",
    "print('Test set score: ', gs.best_estimator_.score(X_test, Y_test))"
   ]
  },
  {
   "cell_type": "markdown",
   "id": "c46c20b3",
   "metadata": {},
   "source": [
    "Testing Data Confusion Matrix"
   ]
  },
  {
   "cell_type": "code",
   "execution_count": 99,
   "id": "cfabb3db",
   "metadata": {},
   "outputs": [
    {
     "name": "stdout",
     "output_type": "stream",
     "text": [
      "confusion matrix:\n",
      "[[50  0]\n",
      " [ 0 80]]\n"
     ]
    },
    {
     "data": {
      "image/png": "[encoded data removed]",
      "text/plain": [
       "<Figure size 288x288 with 2 Axes>"
      ]
     },
     "metadata": {
      "needs_background": "light"
     },
     "output_type": "display_data"
    }
   ],
   "source": [
    "y_pred = gs.predict(X_test) #prediction\n",
    "cm = confusion_matrix(Y_test, \n",
    "                              y_pred)\n",
    "print(\"confusion matrix:\", cm, sep=\"\\n\")\n",
    "\n",
    "fig, ax = plt.subplots(1,1,figsize=(4,4))\n",
    "cm = confusion_matrix(Y_test, y_pred)\n",
    "ax = sns.heatmap(cm, annot=True, square=True,\n",
    "                 xticklabels=['Diabetes','No Diabetes'], \n",
    "                 yticklabels=['Diabetes','No Diabetes'])\n",
    "ax.set_xlabel('Predicted')\n",
    "ax.set_ylabel('Actual');"
   ]
  },
  {
   "cell_type": "markdown",
   "id": "9838036d",
   "metadata": {},
   "source": [
    "Training Data Confusion Matrix"
   ]
  },
  {
   "cell_type": "code",
   "execution_count": 100,
   "id": "c1c08644",
   "metadata": {},
   "outputs": [
    {
     "name": "stdout",
     "output_type": "stream",
     "text": [
      "confusion matrix:\n",
      "[[150   0]\n",
      " [  0 240]]\n"
     ]
    },
    {
     "data": {
      "image/png": "[encoded data removed]",
      "text/plain": [
       "<Figure size 288x288 with 2 Axes>"
      ]
     },
     "metadata": {
      "needs_background": "light"
     },
     "output_type": "display_data"
    }
   ],
   "source": [
    "y_pred = gs.predict(X_train) #prediction\n",
    "cm = confusion_matrix(Y_train, \n",
    "                              y_pred)\n",
    "print(\"confusion matrix:\", cm, sep=\"\\n\")\n",
    "\n",
    "fig, ax = plt.subplots(1,1,figsize=(4,4))\n",
    "cm = confusion_matrix(Y_train, y_pred)\n",
    "ax = sns.heatmap(cm, annot=True, square=True,\n",
    "                 xticklabels=['Diabetes','No Diabetes'], \n",
    "                 yticklabels=['Diabetes','No Diabetes'])\n",
    "ax.set_xlabel('Predicted')\n",
    "ax.set_ylabel('Actual');"
   ]
  },
  {
   "cell_type": "markdown",
   "id": "6f0ba4ed",
   "metadata": {},
   "source": [
    "## Precision Score"
   ]
  },
  {
   "cell_type": "code",
   "execution_count": 101,
   "id": "fcdade50",
   "metadata": {},
   "outputs": [
    {
     "name": "stdout",
     "output_type": "stream",
     "text": [
      "[{'solver': ['lbfgs', 'liblinear', 'saga'], 'multi_class': ['auto'], 'C': array([1.e-02, 1.e-01, 1.e+00, 1.e+01, 1.e+02, 1.e+03, 1.e+04]), 'penalty': ['l1', 'l2'], 'class_weight': [{1: 0.5, 0: 0.5}, {1: 0.4, 0: 0.6}, {1: 0.6, 0: 0.4}, {1: 0.7, 0: 0.3}]}]\n"
     ]
    }
   ],
   "source": [
    "reg= LogisticRegression()\n",
    "param_grid = [{'solver':['lbfgs', 'liblinear', 'saga'], 'multi_class':['auto'], 'C':C_range, 'penalty':['l1', 'l2'], 'class_weight':[{1:0.5, 0:0.5}, {1:0.4, 0:0.6}, {1:0.6, 0:0.4}, {1:0.7, 0:0.3}]}]\n",
    "gs = GridSearchCV(estimator=reg, \n",
    "    param_grid=param_grid, \n",
    "    scoring='precision', \n",
    "    cv=5,\n",
    "    n_jobs=-1)\n",
    "print(param_grid)"
   ]
  },
  {
   "cell_type": "code",
   "execution_count": 102,
   "id": "f5315f49",
   "metadata": {},
   "outputs": [
    {
     "name": "stdout",
     "output_type": "stream",
     "text": [
      "LogisticRegression(C=0.1, class_weight={0: 0.5, 1: 0.5}, penalty='l1',\n",
      "                   solver='liblinear')\n",
      "1.0\n"
     ]
    },
    {
     "name": "stderr",
     "output_type": "stream",
     "text": [
      "C:\\Users\\kaloa\\Anaconda3\\envs\\hari\\lib\\site-packages\\sklearn\\model_selection\\_search.py:922: UserWarning: One or more of the test scores are non-finite: [       nan 0.61538462 0.61538462 0.78200625 0.75506148 0.73786856\n",
      "        nan 0.61538462 0.61538462 0.9517498  0.98791837 0.98791837\n",
      "        nan 0.61538462 0.61538462 0.61862348 0.61538462 0.61538462\n",
      "        nan 0.61538462 0.61538462 0.61538462 0.61538462 0.61538462\n",
      "        nan 1.         0.9103363  0.99591837 0.98791837 0.95668741\n",
      "        nan 1.         0.99183673 1.         0.98791837 0.98783333\n",
      "        nan 1.         0.61538462 0.97615366 0.97991837 0.79587885\n",
      "        nan 1.         0.61538462 0.9347979  0.9494394  0.61538462\n",
      "        nan 1.         0.97583673 1.         1.         0.9717551\n",
      "        nan 1.         0.98783333 1.         1.         0.98783333\n",
      "        nan 1.         0.8415612  1.         1.         0.84698493\n",
      "        nan 1.         0.61858142 1.         0.99591837 0.64013843\n",
      "        nan 1.         0.9717551  1.         1.         0.9717551\n",
      "        nan 1.         0.98783333 1.         1.         0.98783333\n",
      "        nan 1.         0.84988874 1.         1.         0.84988874\n",
      "        nan 1.         0.64013843 1.         1.         0.64013843\n",
      "        nan 1.         0.97583673 1.         1.         0.9717551\n",
      "        nan 1.         0.98783333 1.         1.         0.98783333\n",
      "        nan 1.         0.84988874 1.         1.         0.84988874\n",
      "        nan 1.         0.64013843 1.         1.         0.64013843\n",
      "        nan 1.         0.97583673 1.         1.         0.9717551\n",
      "        nan 1.         0.98783333 1.         1.         0.98783333\n",
      "        nan 1.         0.84988874 1.         1.         0.84988874\n",
      "        nan 1.         0.64013843 1.         1.         0.64013843\n",
      "        nan 1.         0.97583673 1.         1.         0.97583673\n",
      "        nan 1.         0.98783333 1.         1.         0.98783333\n",
      "        nan 1.         0.84988874 1.         1.         0.84988874\n",
      "        nan 1.         0.64013843 1.         1.         0.64013843]\n",
      "  warnings.warn(\n"
     ]
    }
   ],
   "source": [
    "gs.fit(X_train, Y_train)\n",
    "print(gs.best_estimator_)\n",
    "print(gs.best_score_)"
   ]
  },
  {
   "cell_type": "code",
   "execution_count": 103,
   "id": "ed2f1765",
   "metadata": {},
   "outputs": [],
   "source": [
    "estimator = gs.best_estimator_.fit(X_train,Y_train)"
   ]
  },
  {
   "cell_type": "code",
   "execution_count": 104,
   "id": "16d80936",
   "metadata": {},
   "outputs": [
    {
     "name": "stdout",
     "output_type": "stream",
     "text": [
      "Training set score: 1.0\n",
      "Best hyper-parameters : {'C': 0.1, 'class_weight': {1: 0.5, 0: 0.5}, 'multi_class': 'auto', 'penalty': 'l1', 'solver': 'liblinear'}\n",
      "Test set score:  1.0\n"
     ]
    }
   ],
   "source": [
    "print('Training set score:', gs.best_estimator_.score(X_train, Y_train))\n",
    "print(\"Best hyper-parameters :\", gs.best_params_)\n",
    "print('Test set score: ', gs.best_estimator_.score(X_test, Y_test))"
   ]
  },
  {
   "cell_type": "markdown",
   "id": "c6cda90d",
   "metadata": {},
   "source": [
    "Testing Data Confusion Matrix"
   ]
  },
  {
   "cell_type": "code",
   "execution_count": 105,
   "id": "3d1f98c1",
   "metadata": {},
   "outputs": [
    {
     "name": "stdout",
     "output_type": "stream",
     "text": [
      "confusion matrix:\n",
      "[[50  0]\n",
      " [ 0 80]]\n"
     ]
    },
    {
     "data": {
      "image/png": "[encoded data removed]",
      "text/plain": [
       "<Figure size 288x288 with 2 Axes>"
      ]
     },
     "metadata": {
      "needs_background": "light"
     },
     "output_type": "display_data"
    }
   ],
   "source": [
    "y_pred = gs.predict(X_test) #prediction\n",
    "cm = confusion_matrix(Y_test, \n",
    "                              y_pred)\n",
    "print(\"confusion matrix:\", cm, sep=\"\\n\")\n",
    "\n",
    "fig, ax = plt.subplots(1,1,figsize=(4,4))\n",
    "cm = confusion_matrix(Y_test, y_pred)\n",
    "ax = sns.heatmap(cm, annot=True, square=True,\n",
    "                 xticklabels=['Diabetes','No Diabetes'], \n",
    "                 yticklabels=['Diabetes','No Diabetes'])\n",
    "ax.set_xlabel('Predicted')\n",
    "ax.set_ylabel('Actual');"
   ]
  },
  {
   "cell_type": "markdown",
   "id": "c733ee1c",
   "metadata": {},
   "source": [
    "Training Data Confusion Matrix"
   ]
  },
  {
   "cell_type": "code",
   "execution_count": 106,
   "id": "9c5bd191",
   "metadata": {},
   "outputs": [
    {
     "name": "stdout",
     "output_type": "stream",
     "text": [
      "confusion matrix:\n",
      "[[150   0]\n",
      " [  0 240]]\n"
     ]
    },
    {
     "data": {
      "image/png": "[encoded data removed]",
      "text/plain": [
       "<Figure size 288x288 with 2 Axes>"
      ]
     },
     "metadata": {
      "needs_background": "light"
     },
     "output_type": "display_data"
    }
   ],
   "source": [
    "y_pred = gs.predict(X_train) #prediction\n",
    "cm = confusion_matrix(Y_train, \n",
    "                              y_pred)\n",
    "print(\"confusion matrix:\", cm, sep=\"\\n\")\n",
    "\n",
    "fig, ax = plt.subplots(1,1,figsize=(4,4))\n",
    "cm = confusion_matrix(Y_train, y_pred)\n",
    "ax = sns.heatmap(cm, annot=True, square=True,\n",
    "                 xticklabels=['Diabetes','No Diabetes'], \n",
    "                 yticklabels=['Diabetes','No Diabetes'])\n",
    "ax.set_xlabel('Predicted')\n",
    "ax.set_ylabel('Actual');"
   ]
  },
  {
   "cell_type": "markdown",
   "id": "13048ace",
   "metadata": {},
   "source": [
    "## Recall Score"
   ]
  },
  {
   "cell_type": "code",
   "execution_count": 107,
   "id": "98afc4f3",
   "metadata": {},
   "outputs": [],
   "source": [
    "rec = LogisticRegression()\n",
    "param_grid = [{'solver':['lbfgs', 'liblinear', 'saga'], 'multi_class':['auto'], 'C':C_range, 'penalty':['l1', 'l2'], 'class_weight':[{1:0.5, 0:0.5}, {1:0.4, 0:0.6}, {1:0.6, 0:0.4}, {1:0.7, 0:0.3}]}]\n",
    "gs = GridSearchCV(estimator=rec, \n",
    "    param_grid=param_grid, \n",
    "    scoring='recall', \n",
    "    cv=5,\n",
    "    n_jobs=-1)"
   ]
  },
  {
   "cell_type": "code",
   "execution_count": 108,
   "id": "61724e94",
   "metadata": {},
   "outputs": [
    {
     "name": "stdout",
     "output_type": "stream",
     "text": [
      "LogisticRegression(C=0.01, class_weight={0: 0.5, 1: 0.5}, penalty='l1',\n",
      "                   solver='liblinear')\n",
      "1.0\n"
     ]
    },
    {
     "name": "stderr",
     "output_type": "stream",
     "text": [
      "C:\\Users\\kaloa\\Anaconda3\\envs\\hari\\lib\\site-packages\\sklearn\\model_selection\\_search.py:922: UserWarning: One or more of the test scores are non-finite: [       nan 1.         1.         0.99166667 1.         1.\n",
      "        nan 1.         1.         0.90416667 0.975      0.975\n",
      "        nan 1.         1.         1.         1.         1.\n",
      "        nan 1.         1.         1.         1.         1.\n",
      "        nan 1.         1.         0.99166667 1.         1.\n",
      "        nan 1.         1.         0.99166667 0.97083333 0.95833333\n",
      "        nan 1.         1.         1.         1.         1.\n",
      "        nan 1.         1.         1.         1.         1.\n",
      "        nan 1.         1.         1.         1.         1.\n",
      "        nan 1.         0.9625     1.         1.         0.95833333\n",
      "        nan 1.         1.         1.         1.         1.\n",
      "        nan 1.         1.         1.         1.         1.\n",
      "        nan 1.         1.         1.         1.         1.\n",
      "        nan 1.         0.95833333 1.         1.         0.95833333\n",
      "        nan 1.         1.         1.         1.         1.\n",
      "        nan 1.         1.         1.         1.         1.\n",
      "        nan 1.         1.         1.         1.         1.\n",
      "        nan 1.         0.95833333 1.         1.         0.95833333\n",
      "        nan 1.         1.         1.         1.         1.\n",
      "        nan 1.         1.         1.         1.         1.\n",
      "        nan 1.         1.         1.         1.         1.\n",
      "        nan 1.         0.95833333 1.         1.         0.95833333\n",
      "        nan 1.         1.         1.         1.         1.\n",
      "        nan 1.         1.         1.         1.         1.\n",
      "        nan 1.         1.         1.         1.         1.\n",
      "        nan 1.         0.95833333 1.         1.         0.95833333\n",
      "        nan 1.         1.         1.         1.         1.\n",
      "        nan 1.         1.         1.         1.         1.        ]\n",
      "  warnings.warn(\n"
     ]
    }
   ],
   "source": [
    "gs.fit(X_train, Y_train)\n",
    "print(gs.best_estimator_)\n",
    "print(gs.best_score_)"
   ]
  },
  {
   "cell_type": "code",
   "execution_count": 109,
   "id": "56960b67",
   "metadata": {},
   "outputs": [],
   "source": [
    "estimator = gs.best_estimator_.fit(X_train,Y_train)"
   ]
  },
  {
   "cell_type": "code",
   "execution_count": 110,
   "id": "d4ff31f6",
   "metadata": {},
   "outputs": [
    {
     "name": "stdout",
     "output_type": "stream",
     "text": [
      "Training set score: 0.6153846153846154\n",
      "Best hyper-parameters : {'C': 0.01, 'class_weight': {1: 0.5, 0: 0.5}, 'multi_class': 'auto', 'penalty': 'l1', 'solver': 'liblinear'}\n",
      "Test set score:  0.6153846153846154\n"
     ]
    }
   ],
   "source": [
    "print('Training set score:', gs.best_estimator_.score(X_train, Y_train))\n",
    "print(\"Best hyper-parameters :\", gs.best_params_)\n",
    "print('Test set score: ', gs.best_estimator_.score(X_test, Y_test))"
   ]
  },
  {
   "cell_type": "markdown",
   "id": "1719861d",
   "metadata": {},
   "source": [
    "Testing Data CM"
   ]
  },
  {
   "cell_type": "code",
   "execution_count": 75,
   "id": "4b5d2e4b",
   "metadata": {
    "scrolled": true
   },
   "outputs": [
    {
     "name": "stdout",
     "output_type": "stream",
     "text": [
      "confusion matrix:\n",
      "[[ 0 50]\n",
      " [ 0 80]]\n"
     ]
    },
    {
     "data": {
      "image/png": "[encoded data removed]",
      "text/plain": [
       "<Figure size 288x288 with 2 Axes>"
      ]
     },
     "metadata": {
      "needs_background": "light"
     },
     "output_type": "display_data"
    }
   ],
   "source": [
    "y_pred = gs.predict(X_test) #prediction\n",
    "cm = confusion_matrix(Y_test, \n",
    "                              y_pred)\n",
    "print(\"confusion matrix:\", cm, sep=\"\\n\")\n",
    "\n",
    "fig, ax = plt.subplots(1,1,figsize=(4,4))\n",
    "cm = confusion_matrix(Y_test, y_pred)\n",
    "ax = sns.heatmap(cm, annot=True, square=True,\n",
    "                 xticklabels=['Diabetes','No Diabetes'], \n",
    "                 yticklabels=['Diabetes','No Diabetes'])\n",
    "ax.set_xlabel('Predicted')\n",
    "ax.set_ylabel('Actual');"
   ]
  },
  {
   "cell_type": "markdown",
   "id": "117435a1",
   "metadata": {},
   "source": [
    "Training Data CM"
   ]
  },
  {
   "cell_type": "code",
   "execution_count": 76,
   "id": "b21a8826",
   "metadata": {},
   "outputs": [
    {
     "name": "stdout",
     "output_type": "stream",
     "text": [
      "confusion matrix:\n",
      "[[  0 150]\n",
      " [  0 240]]\n"
     ]
    },
    {
     "data": {
      "image/png": "[encoded data removed]",
      "text/plain": [
       "<Figure size 288x288 with 2 Axes>"
      ]
     },
     "metadata": {
      "needs_background": "light"
     },
     "output_type": "display_data"
    }
   ],
   "source": [
    "y_pred = gs.predict(X_train) #prediction\n",
    "cm = confusion_matrix(Y_train, \n",
    "                              y_pred)\n",
    "print(\"confusion matrix:\", cm, sep=\"\\n\")\n",
    "\n",
    "fig, ax = plt.subplots(1,1,figsize=(4,4))\n",
    "cm = confusion_matrix(Y_train, y_pred)\n",
    "ax = sns.heatmap(cm, annot=True, square=True,\n",
    "                 xticklabels=['Diabetes','No Diabetes'], \n",
    "                 yticklabels=['Diabetes','No Diabetes'])\n",
    "ax.set_xlabel('Predicted')\n",
    "ax.set_ylabel('Actual');"
   ]
  },
  {
   "cell_type": "markdown",
   "id": "745d9841",
   "metadata": {},
   "source": [
    "## F1 Score"
   ]
  },
  {
   "cell_type": "code",
   "execution_count": 77,
   "id": "949fffdf",
   "metadata": {},
   "outputs": [],
   "source": [
    "f1 = LogisticRegression()\n",
    "param_grid = [{'solver':['lbfgs', 'liblinear', 'saga'], 'multi_class':['auto'], 'C':C_range, 'penalty':['l1', 'l2'], 'class_weight':[{1:0.5, 0:0.5}, {1:0.4, 0:0.6}, {1:0.6, 0:0.4}, {1:0.7, 0:0.3}]}]\n",
    "gs = GridSearchCV(estimator=f1, \n",
    "    param_grid=param_grid, \n",
    "    scoring='f1', \n",
    "    cv=5,\n",
    "    n_jobs=-1)"
   ]
  },
  {
   "cell_type": "code",
   "execution_count": 78,
   "id": "d2d180a0",
   "metadata": {},
   "outputs": [
    {
     "name": "stdout",
     "output_type": "stream",
     "text": [
      "LogisticRegression(C=0.1, class_weight={0: 0.5, 1: 0.5}, penalty='l1',\n",
      "                   solver='liblinear')\n",
      "1.0\n"
     ]
    },
    {
     "name": "stderr",
     "output_type": "stream",
     "text": [
      "C:\\Users\\kaloa\\Anaconda3\\envs\\hari\\lib\\site-packages\\sklearn\\model_selection\\_search.py:922: UserWarning: One or more of the test scores are non-finite: [       nan 0.76190476 0.76190476 0.87397106 0.85965466 0.84868649\n",
      "        nan 0.76190476 0.76190476 0.92704847 0.98052318 0.98052318\n",
      "        nan 0.76190476 0.76190476 0.76436252 0.76190476 0.76190476\n",
      "        nan 0.76190476 0.76190476 0.76190476 0.76190476 0.76190476\n",
      "        nan 1.         0.95075714 0.99368283 0.99385651 0.97773405\n",
      "        nan 1.         0.99587629 0.99574468 0.97841792 0.97205779\n",
      "        nan 1.         0.76190476 0.98779591 0.98977488 0.88524821\n",
      "        nan 1.         0.76190476 0.96605453 0.97385409 0.76190476\n",
      "        nan 1.         0.98771302 1.         1.         0.98565117\n",
      "        nan 1.         0.97420784 1.         1.         0.97205779\n",
      "        nan 1.         0.91330302 1.         1.         0.91662596\n",
      "        nan 1.         0.76312381 1.         0.99793814 0.78055023\n",
      "        nan 1.         0.98565117 1.         1.         0.98771302\n",
      "        nan 1.         0.97205779 1.         1.         0.97205779\n",
      "        nan 1.         0.91835103 1.         1.         0.92004386\n",
      "        nan 1.         0.78055023 1.         1.         0.78055023\n",
      "        nan 1.         0.98565117 1.         1.         0.98565117\n",
      "        nan 1.         0.97205779 1.         1.         0.97205779\n",
      "        nan 1.         0.91835103 1.         1.         0.91835103\n",
      "        nan 1.         0.78055023 1.         1.         0.78055023\n",
      "        nan 1.         0.98565117 1.         1.         0.98771302\n",
      "        nan 1.         0.97205779 1.         1.         0.97205779\n",
      "        nan 1.         0.91835103 1.         1.         0.92004386\n",
      "        nan 1.         0.78055023 1.         1.         0.78055023\n",
      "        nan 1.         0.98771302 1.         1.         0.98771302\n",
      "        nan 1.         0.97205779 1.         1.         0.97205779\n",
      "        nan 1.         0.91835103 1.         1.         0.91835103\n",
      "        nan 1.         0.78055023 1.         1.         0.78055023]\n",
      "  warnings.warn(\n"
     ]
    }
   ],
   "source": [
    "gs.fit(X_train, Y_train)\n",
    "print(gs.best_estimator_)\n",
    "print(gs.best_score_)"
   ]
  },
  {
   "cell_type": "code",
   "execution_count": 79,
   "id": "09dafd57",
   "metadata": {},
   "outputs": [],
   "source": [
    "estimator = gs.best_estimator_.fit(X_train,Y_train)"
   ]
  },
  {
   "cell_type": "code",
   "execution_count": 80,
   "id": "f91d2dd7",
   "metadata": {},
   "outputs": [
    {
     "name": "stdout",
     "output_type": "stream",
     "text": [
      "Training set score: 1.0\n",
      "Best hyper-parameters : {'C': 0.1, 'class_weight': {1: 0.5, 0: 0.5}, 'multi_class': 'auto', 'penalty': 'l1', 'solver': 'liblinear'}\n",
      "Test set score:  1.0\n"
     ]
    }
   ],
   "source": [
    "print('Training set score:', gs.best_estimator_.score(X_train, Y_train))\n",
    "print(\"Best hyper-parameters :\", gs.best_params_)\n",
    "print('Test set score: ', gs.best_estimator_.score(X_test, Y_test))"
   ]
  },
  {
   "cell_type": "code",
   "execution_count": 81,
   "id": "611714ee",
   "metadata": {},
   "outputs": [
    {
     "name": "stdout",
     "output_type": "stream",
     "text": [
      "confusion matrix:\n",
      "[[50  0]\n",
      " [ 0 80]]\n"
     ]
    },
    {
     "data": {
      "image/png": "[encoded data removed]",
      "text/plain": [
       "<Figure size 288x288 with 2 Axes>"
      ]
     },
     "metadata": {
      "needs_background": "light"
     },
     "output_type": "display_data"
    }
   ],
   "source": [
    "y_pred = gs.predict(X_test) #prediction\n",
    "cm = confusion_matrix(Y_test, \n",
    "                              y_pred)\n",
    "print(\"confusion matrix:\", cm, sep=\"\\n\")\n",
    "\n",
    "fig, ax = plt.subplots(1,1,figsize=(4,4))\n",
    "cm = confusion_matrix(Y_test, y_pred)\n",
    "ax = sns.heatmap(cm, annot=True, square=True,\n",
    "                 xticklabels=['Diabetes','No Diabetes'], \n",
    "                 yticklabels=['Diabetes','No Diabetes'])\n",
    "ax.set_xlabel('Predicted')\n",
    "ax.set_ylabel('Actual');"
   ]
  },
  {
   "cell_type": "code",
   "execution_count": 82,
   "id": "9756d893",
   "metadata": {},
   "outputs": [
    {
     "name": "stdout",
     "output_type": "stream",
     "text": [
      "confusion matrix:\n",
      "[[150   0]\n",
      " [  0 240]]\n"
     ]
    },
    {
     "data": {
      "image/png": "[encoded data removed]",
      "text/plain": [
       "<Figure size 288x288 with 2 Axes>"
      ]
     },
     "metadata": {
      "needs_background": "light"
     },
     "output_type": "display_data"
    }
   ],
   "source": [
    "y_pred = gs.predict(X_train) #prediction\n",
    "cm = confusion_matrix(Y_train, \n",
    "                              y_pred)\n",
    "print(\"confusion matrix:\", cm, sep=\"\\n\")\n",
    "\n",
    "fig, ax = plt.subplots(1,1,figsize=(4,4))\n",
    "cm = confusion_matrix(Y_train, y_pred)\n",
    "ax = sns.heatmap(cm, annot=True, square=True,\n",
    "                 xticklabels=['Diabetes','No Diabetes'], \n",
    "                 yticklabels=['Diabetes','No Diabetes'])\n",
    "ax.set_xlabel('Predicted')\n",
    "ax.set_ylabel('Actual');"
   ]
  },
  {
   "cell_type": "markdown",
   "id": "f87cf11c",
   "metadata": {},
   "source": [
    "# MLP Grid Search"
   ]
  },
  {
   "cell_type": "code",
   "execution_count": 129,
   "id": "6ae1e8da",
   "metadata": {},
   "outputs": [
    {
     "name": "stdout",
     "output_type": "stream",
     "text": [
      "[{'alpha': array([1.e-02, 1.e-01, 1.e+00, 1.e+01, 1.e+02, 1.e+03]), 'hidden_layer_sizes': [(6,), (8,), (8, 8), (10,), (10, 10), (12,), (12, 12), (12, 8), (14,), (14, 14), (14, 10), (16,), (16, 16), (16, 12), (16, 8), (18,), (18, 18), (18, 14), (18, 10)]}]\n"
     ]
    }
   ],
   "source": [
    "alpha_range = np.logspace(-2, 3, 6)\n",
    "hidden_layer_sizes = []\n",
    "for i in range(6, 20, 2):\n",
    "    hidden_layer_sizes.append((i,)) \n",
    "    for j in range(i, 6, -4):\n",
    "        hidden_layer_sizes.append((i,j))\n",
    "param_grid = [{'alpha': alpha_range, \n",
    "               'hidden_layer_sizes': hidden_layer_sizes} ]\n",
    "\n",
    "print(param_grid)"
   ]
  },
  {
   "cell_type": "code",
   "execution_count": 130,
   "id": "c02a1096",
   "metadata": {},
   "outputs": [],
   "source": [
    "## Accuracy "
   ]
  },
  {
   "cell_type": "code",
   "execution_count": 131,
   "id": "4e46c08c",
   "metadata": {},
   "outputs": [],
   "source": [
    "mlp = MLPClassifier(learning_rate_init=0.05, max_iter=1000)\n",
    "gs = GridSearchCV(estimator=mlp, \n",
    "                  param_grid=param_grid, \n",
    "                  scoring='accuracy', \n",
    "                  cv=5)\n",
    "gs = gs.fit(X_train, Y_train)"
   ]
  },
  {
   "cell_type": "code",
   "execution_count": 139,
   "id": "a6bdf353",
   "metadata": {},
   "outputs": [
    {
     "name": "stdout",
     "output_type": "stream",
     "text": [
      "MLPClassifier(alpha=0.01, hidden_layer_sizes=(18,), learning_rate_init=0.05,\n",
      "              max_iter=1000)\n",
      "1.0\n"
     ]
    }
   ],
   "source": [
    "print(gs.best_estimator_)\n",
    "print(gs.best_score_)"
   ]
  },
  {
   "cell_type": "code",
   "execution_count": 140,
   "id": "322b5ce7",
   "metadata": {},
   "outputs": [
    {
     "name": "stdout",
     "output_type": "stream",
     "text": [
      "Training set score: 1.0\n",
      "Best hyper-parameters : {'alpha': 0.01, 'hidden_layer_sizes': (18,)}\n",
      "Test score =  1.0\n"
     ]
    }
   ],
   "source": [
    "print('Training set score:', gs.best_estimator_.score(X_train, Y_train))\n",
    "print(\"Best hyper-parameters :\", gs.best_params_)\n",
    "print(\"Test score = \", gs.score(X_test, Y_test))"
   ]
  },
  {
   "cell_type": "markdown",
   "id": "df55e210",
   "metadata": {},
   "source": [
    "Testing Data Confusion Matrix"
   ]
  },
  {
   "cell_type": "code",
   "execution_count": 141,
   "id": "cf00a6c7",
   "metadata": {},
   "outputs": [
    {
     "name": "stdout",
     "output_type": "stream",
     "text": [
      "confusion matrix:\n",
      "[[50  0]\n",
      " [ 0 80]]\n"
     ]
    }
   ],
   "source": [
    "y_pred = gs.predict(X_test) #prediction\n",
    "\n",
    "cmat = confusion_matrix(Y_test, \n",
    "                              y_pred)\n",
    "print(\"confusion matrix:\", cmat, sep=\"\\n\")"
   ]
  },
  {
   "cell_type": "code",
   "execution_count": 142,
   "id": "4da3fcd7",
   "metadata": {},
   "outputs": [
    {
     "data": {
      "image/png": "[encoded data removed]",
      "text/plain": [
       "<Figure size 288x288 with 2 Axes>"
      ]
     },
     "metadata": {
      "needs_background": "light"
     },
     "output_type": "display_data"
    }
   ],
   "source": [
    "fig, ax = plt.subplots(1,1,figsize=(4,4))\n",
    "ax = sns.heatmap(cmat, annot=True, square=True,\n",
    "                 xticklabels=['Diabetes','No Diabetes'], \n",
    "                 yticklabels=['Diabetes','No Diabetes'])\n",
    "ax.set_xlabel('Predicted')\n",
    "ax.set_ylabel('Actual');"
   ]
  },
  {
   "cell_type": "markdown",
   "id": "d7e29eb2",
   "metadata": {},
   "source": [
    "Training Data Confusion Matrix"
   ]
  },
  {
   "cell_type": "code",
   "execution_count": 143,
   "id": "c5ed56e6",
   "metadata": {},
   "outputs": [
    {
     "name": "stdout",
     "output_type": "stream",
     "text": [
      "confusion matrix:\n",
      "[[150   0]\n",
      " [  0 240]]\n"
     ]
    },
    {
     "data": {
      "image/png": "[encoded data removed]",
      "text/plain": [
       "<Figure size 288x288 with 2 Axes>"
      ]
     },
     "metadata": {
      "needs_background": "light"
     },
     "output_type": "display_data"
    }
   ],
   "source": [
    "y_pred = gs.predict(X_train) #prediction\n",
    "cmat = confusion_matrix(Y_train, \n",
    "                              y_pred)\n",
    "print(\"confusion matrix:\", cmat, sep=\"\\n\")\n",
    "\n",
    "fig, ax = plt.subplots(1,1,figsize=(4,4))\n",
    "cm = confusion_matrix(Y_train, y_pred)\n",
    "ax = sns.heatmap(cm, annot=True, square=True,\n",
    "                 xticklabels=['Diabetes','No Diabetes'], \n",
    "                 yticklabels=['Diabetes','No Diabetes'])\n",
    "ax.set_xlabel('Predicted')\n",
    "ax.set_ylabel('Actual');\n"
   ]
  },
  {
   "cell_type": "markdown",
   "id": "1555d70d",
   "metadata": {},
   "source": [
    "## Precision Score"
   ]
  },
  {
   "cell_type": "code",
   "execution_count": 144,
   "id": "6da2adf3",
   "metadata": {},
   "outputs": [],
   "source": [
    "mnp = MLPClassifier(learning_rate_init=0.05, max_iter=1000)\n",
    "gs = GridSearchCV(estimator=mnp, \n",
    "                  param_grid=param_grid, \n",
    "                  scoring='precision', \n",
    "                  cv=5)"
   ]
  },
  {
   "cell_type": "code",
   "execution_count": 94,
   "id": "f6bcef71",
   "metadata": {},
   "outputs": [
    {
     "name": "stderr",
     "output_type": "stream",
     "text": [
      "C:\\Users\\kaloa\\Anaconda3\\envs\\hari\\lib\\site-packages\\sklearn\\metrics\\_classification.py:1248: UndefinedMetricWarning: Precision is ill-defined and being set to 0.0 due to no predicted samples. Use `zero_division` parameter to control this behavior.\n",
      "  _warn_prf(average, modifier, msg_start, len(result))\n",
      "C:\\Users\\kaloa\\Anaconda3\\envs\\hari\\lib\\site-packages\\sklearn\\metrics\\_classification.py:1248: UndefinedMetricWarning: Precision is ill-defined and being set to 0.0 due to no predicted samples. Use `zero_division` parameter to control this behavior.\n",
      "  _warn_prf(average, modifier, msg_start, len(result))\n",
      "C:\\Users\\kaloa\\Anaconda3\\envs\\hari\\lib\\site-packages\\sklearn\\metrics\\_classification.py:1248: UndefinedMetricWarning: Precision is ill-defined and being set to 0.0 due to no predicted samples. Use `zero_division` parameter to control this behavior.\n",
      "  _warn_prf(average, modifier, msg_start, len(result))\n",
      "C:\\Users\\kaloa\\Anaconda3\\envs\\hari\\lib\\site-packages\\sklearn\\metrics\\_classification.py:1248: UndefinedMetricWarning: Precision is ill-defined and being set to 0.0 due to no predicted samples. Use `zero_division` parameter to control this behavior.\n",
      "  _warn_prf(average, modifier, msg_start, len(result))\n",
      "C:\\Users\\kaloa\\Anaconda3\\envs\\hari\\lib\\site-packages\\sklearn\\metrics\\_classification.py:1248: UndefinedMetricWarning: Precision is ill-defined and being set to 0.0 due to no predicted samples. Use `zero_division` parameter to control this behavior.\n",
      "  _warn_prf(average, modifier, msg_start, len(result))\n",
      "C:\\Users\\kaloa\\Anaconda3\\envs\\hari\\lib\\site-packages\\sklearn\\metrics\\_classification.py:1248: UndefinedMetricWarning: Precision is ill-defined and being set to 0.0 due to no predicted samples. Use `zero_division` parameter to control this behavior.\n",
      "  _warn_prf(average, modifier, msg_start, len(result))\n",
      "C:\\Users\\kaloa\\Anaconda3\\envs\\hari\\lib\\site-packages\\sklearn\\metrics\\_classification.py:1248: UndefinedMetricWarning: Precision is ill-defined and being set to 0.0 due to no predicted samples. Use `zero_division` parameter to control this behavior.\n",
      "  _warn_prf(average, modifier, msg_start, len(result))\n",
      "C:\\Users\\kaloa\\Anaconda3\\envs\\hari\\lib\\site-packages\\sklearn\\metrics\\_classification.py:1248: UndefinedMetricWarning: Precision is ill-defined and being set to 0.0 due to no predicted samples. Use `zero_division` parameter to control this behavior.\n",
      "  _warn_prf(average, modifier, msg_start, len(result))\n"
     ]
    },
    {
     "name": "stdout",
     "output_type": "stream",
     "text": [
      "MLPClassifier(alpha=0.01, hidden_layer_sizes=(9,), learning_rate_init=0.05,\n",
      "              max_iter=1000)\n",
      "1.0\n"
     ]
    }
   ],
   "source": [
    "gs = gs.fit(X_train, Y_train)\n",
    "print(gs.best_estimator_)\n",
    "print(gs.best_score_)"
   ]
  },
  {
   "cell_type": "code",
   "execution_count": 111,
   "id": "66adce35",
   "metadata": {},
   "outputs": [
    {
     "name": "stdout",
     "output_type": "stream",
     "text": [
      "Training set score: 0.6153846153846154\n",
      "Best hyper-parameters : {'C': 0.01, 'class_weight': {1: 0.5, 0: 0.5}, 'multi_class': 'auto', 'penalty': 'l1', 'solver': 'liblinear'}\n",
      "Test score =  1.0\n"
     ]
    }
   ],
   "source": [
    "print('Training set score:', gs.best_estimator_.score(X_train, Y_train))\n",
    "print(\"Best hyper-parameters :\", gs.best_params_)\n",
    "print(\"Test score = \", gs.score(X_test, Y_test))"
   ]
  },
  {
   "cell_type": "markdown",
   "id": "24e8918f",
   "metadata": {},
   "source": [
    "Training Data Confusion Matrix"
   ]
  },
  {
   "cell_type": "code",
   "execution_count": 112,
   "id": "223d0d7f",
   "metadata": {},
   "outputs": [
    {
     "name": "stdout",
     "output_type": "stream",
     "text": [
      "confusion matrix:\n",
      "[[  0 150]\n",
      " [  0 240]]\n"
     ]
    },
    {
     "data": {
      "image/png": "[encoded data removed]",
      "text/plain": [
       "<Figure size 288x288 with 2 Axes>"
      ]
     },
     "metadata": {
      "needs_background": "light"
     },
     "output_type": "display_data"
    }
   ],
   "source": [
    "y_pred = gs.predict(X_train) #prediction\n",
    "cmat = confusion_matrix(Y_train, \n",
    "                              y_pred)\n",
    "print(\"confusion matrix:\", cmat, sep=\"\\n\")\n",
    "\n",
    "fig, ax = plt.subplots(1,1,figsize=(4,4))\n",
    "cm = confusion_matrix(Y_train, y_pred)\n",
    "ax = sns.heatmap(cm, annot=True, square=True,\n",
    "                 xticklabels=['Diabetes','No Diabetes'], \n",
    "                 yticklabels=['Diabetes','No Diabetes'])\n",
    "ax.set_xlabel('Predicted')\n",
    "ax.set_ylabel('Actual');\n"
   ]
  },
  {
   "cell_type": "markdown",
   "id": "2ae03e4a",
   "metadata": {},
   "source": [
    "Testing Data Confusion Matrix"
   ]
  },
  {
   "cell_type": "code",
   "execution_count": 113,
   "id": "1018711d",
   "metadata": {},
   "outputs": [
    {
     "name": "stdout",
     "output_type": "stream",
     "text": [
      "confusion matrix:\n",
      "[[ 0 50]\n",
      " [ 0 80]]\n"
     ]
    },
    {
     "data": {
      "image/png": "[encoded data removed]",
      "text/plain": [
       "<Figure size 288x288 with 2 Axes>"
      ]
     },
     "metadata": {
      "needs_background": "light"
     },
     "output_type": "display_data"
    }
   ],
   "source": [
    "y_pred = gs.predict(X_test) #prediction\n",
    "cmat = confusion_matrix(Y_test, \n",
    "                              y_pred)\n",
    "print(\"confusion matrix:\", cmat, sep=\"\\n\")\n",
    "\n",
    "fig, ax = plt.subplots(1,1,figsize=(4,4))\n",
    "cm = confusion_matrix(Y_test, y_pred)\n",
    "ax = sns.heatmap(cm, annot=True, square=True,\n",
    "                 xticklabels=['Diabetes','No Diabetes'], \n",
    "                 yticklabels=['Diabetes','No Diabetes'])\n",
    "ax.set_xlabel('Predicted')\n",
    "ax.set_ylabel('Actual');\n"
   ]
  },
  {
   "cell_type": "markdown",
   "id": "488cfd73",
   "metadata": {},
   "source": [
    "## Recall Score"
   ]
  },
  {
   "cell_type": "code",
   "execution_count": 145,
   "id": "1725d6bf",
   "metadata": {},
   "outputs": [
    {
     "data": {
      "text/plain": [
       "dict_keys(['activation', 'alpha', 'batch_size', 'beta_1', 'beta_2', 'early_stopping', 'epsilon', 'hidden_layer_sizes', 'learning_rate', 'learning_rate_init', 'max_fun', 'max_iter', 'momentum', 'n_iter_no_change', 'nesterovs_momentum', 'power_t', 'random_state', 'shuffle', 'solver', 'tol', 'validation_fraction', 'verbose', 'warm_start'])"
      ]
     },
     "execution_count": 145,
     "metadata": {},
     "output_type": "execute_result"
    }
   ],
   "source": [
    "mrp = MLPClassifier(learning_rate_init=0.05, max_iter=1000, warm_start=True)\n",
    "gs = GridSearchCV(estimator=mrp, \n",
    "                  param_grid=param_grid, \n",
    "                  scoring='recall', \n",
    "                  cv=5)\n",
    "mrp.get_params().keys()"
   ]
  },
  {
   "cell_type": "code",
   "execution_count": 146,
   "id": "8fb53347",
   "metadata": {},
   "outputs": [
    {
     "name": "stdout",
     "output_type": "stream",
     "text": [
      "MLPClassifier(alpha=0.01, hidden_layer_sizes=(6,), learning_rate_init=0.05,\n",
      "              max_iter=1000, warm_start=True)\n",
      "1.0\n"
     ]
    }
   ],
   "source": [
    "gs = gs.fit(X_train, Y_train)\n",
    "print(gs.best_estimator_)\n",
    "print(gs.best_score_)"
   ]
  },
  {
   "cell_type": "code",
   "execution_count": 147,
   "id": "dc043919",
   "metadata": {},
   "outputs": [
    {
     "name": "stdout",
     "output_type": "stream",
     "text": [
      "Training set score: 1.0\n",
      "Best hyper-parameters : {'alpha': 0.01, 'hidden_layer_sizes': (6,)}\n",
      "Test score =  1.0\n"
     ]
    }
   ],
   "source": [
    "print('Training set score:', gs.best_estimator_.score(X_train, Y_train))\n",
    "print(\"Best hyper-parameters :\", gs.best_params_)\n",
    "print(\"Test score = \", gs.score(X_test, Y_test))"
   ]
  },
  {
   "cell_type": "markdown",
   "id": "5cbaff92",
   "metadata": {},
   "source": [
    "Training Data CM"
   ]
  },
  {
   "cell_type": "code",
   "execution_count": 148,
   "id": "5fa29cec",
   "metadata": {},
   "outputs": [
    {
     "name": "stdout",
     "output_type": "stream",
     "text": [
      "confusion matrix:\n",
      "[[150   0]\n",
      " [  0 240]]\n"
     ]
    },
    {
     "data": {
      "image/png": "[encoded data removed]",
      "text/plain": [
       "<Figure size 288x288 with 2 Axes>"
      ]
     },
     "metadata": {
      "needs_background": "light"
     },
     "output_type": "display_data"
    }
   ],
   "source": [
    "y_pred = gs.predict(X_train) #prediction\n",
    "cmat = confusion_matrix(Y_train, \n",
    "                              y_pred)\n",
    "print(\"confusion matrix:\", cmat, sep=\"\\n\")\n",
    "\n",
    "fig, ax = plt.subplots(1,1,figsize=(4,4))\n",
    "cm = confusion_matrix(Y_train, y_pred)\n",
    "ax = sns.heatmap(cm, annot=True, square=True,\n",
    "                 xticklabels=['Diabetes','No Diabetes'], \n",
    "                 yticklabels=['Diabetes','No Diabetes'])\n",
    "ax.set_xlabel('Predicted')\n",
    "ax.set_ylabel('Actual');"
   ]
  },
  {
   "cell_type": "markdown",
   "id": "f5c96cd4",
   "metadata": {},
   "source": [
    "Testing Data CM\n"
   ]
  },
  {
   "cell_type": "code",
   "execution_count": 149,
   "id": "f5f0c523",
   "metadata": {},
   "outputs": [
    {
     "name": "stdout",
     "output_type": "stream",
     "text": [
      "confusion matrix:\n",
      "[[50  0]\n",
      " [ 0 80]]\n"
     ]
    },
    {
     "data": {
      "image/png": "[encoded data removed]",
      "text/plain": [
       "<Figure size 288x288 with 2 Axes>"
      ]
     },
     "metadata": {
      "needs_background": "light"
     },
     "output_type": "display_data"
    }
   ],
   "source": [
    "y_pred = gs.predict(X_test) #prediction\n",
    "cmat = confusion_matrix(Y_test, \n",
    "                              y_pred)\n",
    "print(\"confusion matrix:\", cmat, sep=\"\\n\")\n",
    "\n",
    "fig, ax = plt.subplots(1,1,figsize=(4,4))\n",
    "cm = confusion_matrix(Y_test, y_pred)\n",
    "ax = sns.heatmap(cm, annot=True, square=True,\n",
    "                 xticklabels=['Diabetes','No Diabetes'], \n",
    "                 yticklabels=['Diabetes','No Diabetes'])\n",
    "ax.set_xlabel('Predicted')\n",
    "ax.set_ylabel('Actual');\n"
   ]
  },
  {
   "cell_type": "markdown",
   "id": "907a0de7",
   "metadata": {},
   "source": [
    "## F1 Score"
   ]
  },
  {
   "cell_type": "code",
   "execution_count": 150,
   "id": "9d7bd911",
   "metadata": {},
   "outputs": [],
   "source": [
    "nf1 = MLPClassifier(learning_rate_init=0.05, max_iter=1000)\n",
    "gs = GridSearchCV(estimator=nf1, \n",
    "                  param_grid=param_grid, \n",
    "                  scoring='f1', \n",
    "                  cv=5)"
   ]
  },
  {
   "cell_type": "code",
   "execution_count": 151,
   "id": "233ef9b8",
   "metadata": {},
   "outputs": [
    {
     "name": "stdout",
     "output_type": "stream",
     "text": [
      "MLPClassifier(alpha=0.01, hidden_layer_sizes=(16,), learning_rate_init=0.05,\n",
      "              max_iter=1000)\n",
      "1.0\n"
     ]
    }
   ],
   "source": [
    "gs = gs.fit(X_train, Y_train)\n",
    "print(gs.best_estimator_)\n",
    "print(gs.best_score_)"
   ]
  },
  {
   "cell_type": "code",
   "execution_count": 152,
   "id": "716e2a07",
   "metadata": {},
   "outputs": [
    {
     "name": "stdout",
     "output_type": "stream",
     "text": [
      "Training set score: 1.0\n",
      "Best hyper-parameters : {'alpha': 0.01, 'hidden_layer_sizes': (16,)}\n",
      "Test score =  1.0\n"
     ]
    }
   ],
   "source": [
    "print('Training set score:', gs.best_estimator_.score(X_train, Y_train))\n",
    "print(\"Best hyper-parameters :\", gs.best_params_)\n",
    "print(\"Test score = \", gs.score(X_test, Y_test))"
   ]
  },
  {
   "cell_type": "markdown",
   "id": "f60f40d1",
   "metadata": {},
   "source": [
    "Training Data CM"
   ]
  },
  {
   "cell_type": "code",
   "execution_count": 153,
   "id": "4921bd5e",
   "metadata": {},
   "outputs": [
    {
     "name": "stdout",
     "output_type": "stream",
     "text": [
      "confusion matrix:\n",
      "[[150   0]\n",
      " [  0 240]]\n"
     ]
    },
    {
     "data": {
      "image/png": "[encoded data removed]",
      "text/plain": [
       "<Figure size 288x288 with 2 Axes>"
      ]
     },
     "metadata": {
      "needs_background": "light"
     },
     "output_type": "display_data"
    }
   ],
   "source": [
    "y_pred = gs.predict(X_train) #prediction\n",
    "cmat = confusion_matrix(Y_train, \n",
    "                              y_pred)\n",
    "print(\"confusion matrix:\", cmat, sep=\"\\n\")\n",
    "\n",
    "fig, ax = plt.subplots(1,1,figsize=(4,4))\n",
    "cm = confusion_matrix(Y_train, y_pred)\n",
    "ax = sns.heatmap(cm, annot=True, square=True,\n",
    "                 xticklabels=['Diabetes','No Diabetes'], \n",
    "                 yticklabels=['Diabetes','No Diabetes'])\n",
    "ax.set_xlabel('Predicted')\n",
    "ax.set_ylabel('Actual');"
   ]
  },
  {
   "cell_type": "markdown",
   "id": "6376a71d",
   "metadata": {},
   "source": [
    "Testing Data CM"
   ]
  },
  {
   "cell_type": "code",
   "execution_count": 154,
   "id": "c73717e5",
   "metadata": {},
   "outputs": [
    {
     "name": "stdout",
     "output_type": "stream",
     "text": [
      "confusion matrix:\n",
      "[[50  0]\n",
      " [ 0 80]]\n"
     ]
    },
    {
     "data": {
      "image/png": "[encoded data removed]",
      "text/plain": [
       "<Figure size 288x288 with 2 Axes>"
      ]
     },
     "metadata": {
      "needs_background": "light"
     },
     "output_type": "display_data"
    }
   ],
   "source": [
    "y_pred = gs.predict(X_test) #prediction\n",
    "cmat = confusion_matrix(Y_test, \n",
    "                              y_pred)\n",
    "print(\"confusion matrix:\", cmat, sep=\"\\n\")\n",
    "\n",
    "fig, ax = plt.subplots(1,1,figsize=(4,4))\n",
    "cm = confusion_matrix(Y_test, y_pred)\n",
    "ax = sns.heatmap(cm, annot=True, square=True,\n",
    "                 xticklabels=['Diabetes','No Diabetes'], \n",
    "                 yticklabels=['Diabetes','No Diabetes'])\n",
    "ax.set_xlabel('Predicted')\n",
    "ax.set_ylabel('Actual');"
   ]
  },
  {
   "cell_type": "code",
   "execution_count": null,
   "id": "53544520",
   "metadata": {},
   "outputs": [],
   "source": []
  }
 ],
 "metadata": {
  "kernelspec": {
   "display_name": "Python 3 (ipykernel)",
   "language": "python",
   "name": "python3"
  },
  "language_info": {
   "codemirror_mode": {
    "name": "ipython",
    "version": 3
   },
   "file_extension": ".py",
   "mimetype": "text/x-python",
   "name": "python",
   "nbconvert_exporter": "python",
   "pygments_lexer": "ipython3",
   "version": "3.9.6"
  }
 },
 "nbformat": 4,
 "nbformat_minor": 5
}
